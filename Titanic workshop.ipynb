{
 "cells": [
  {
   "cell_type": "markdown",
   "metadata": {
    "_cell_guid": "ea25cdf7-bdbc-3cf1-0737-bc51675e3374",
    "_uuid": "fed5696c67bf55a553d6d04313a77e8c617cad99"
   },
   "source": [
    "# Solving the Titanic\n",
    "\n",
    "## Workflow\n",
    "\n",
    "The competition solution workflow goes through seven stages described in the Data Science Solutions book.\n",
    "\n",
    "1. Question or problem definition.\n",
    "2. Acquire training and testing data.\n",
    "3. Validate, prepare, cleanse the data.\n",
    "4. Analyze, identify patterns, and explore the data.\n",
    "5. Model, predict and solve the problem.\n",
    "6. Visualize, report, and present the problem solving steps and final solution.\n",
    "7. Supply or submit the results.\n",
    "\n",
    "The workflow indicates general sequence of how each stage may follow the other. However there are use cases with exceptions.\n",
    "\n",
    "- We may combine mulitple workflow stages. We may analyze by visualizing data.\n",
    "- Perform a stage earlier than indicated. We may analyze data before and after wrangling.\n",
    "- Perform a stage multiple times in our workflow. Visualize stage may be used multiple times.\n",
    "- Drop a stage altogether. We may not need supply stage to productize or service enable our dataset for a competition.\n",
    "\n",
    "\n",
    "## Question and problem definition\n",
    "\n",
    "Competition sites like Kaggle define the problem to solve or questions to ask while providing the datasets for training your data science model and testing the model results against a test dataset. The question or problem definition for Titanic Survival competition is [described here at Kaggle](https://www.kaggle.com/c/titanic).\n",
    "\n",
    "> Knowing from a training set of samples listing passengers who survived or did not survive the Titanic disaster, can our model determine based on a given test dataset not containing the survival information, if these passengers in the test dataset survived or not.\n",
    "\n",
    "We may also want to develop some early understanding about the domain of our problem. This is described on the [Kaggle competition description page here](https://www.kaggle.com/c/titanic). Here are the highlights to note.\n",
    "\n",
    "- On April 15, 1912, during her maiden voyage, the Titanic sank after colliding with an iceberg, killing 1502 out of 2224 passengers and crew. Translated 32% survival rate.\n",
    "- One of the reasons that the shipwreck led to such loss of life was that there were not enough lifeboats for the passengers and crew.\n",
    "- Although there was some element of luck involved in surviving the sinking, some groups of people were more likely to survive than others, such as women, children, and the upper-class.\n",
    "\n",
    "## Workflow goals\n",
    "\n",
    "The data science solutions workflow solves for seven major goals.\n",
    "\n",
    "**Classifying.** We may want to classify or categorize our samples. We may also want to understand the implications or correlation of different classes with our solution goal.\n",
    "\n",
    "**Correlating.** One can approach the problem based on available features within the training dataset. Which features within the dataset contribute significantly to our solution goal? Statistically speaking is there a [correlation](https://en.wikiversity.org/wiki/Correlation) among a feature and solution goal? As the feature values change does the solution state change as well, and visa-versa? This can be tested both for numerical and categorical features in the given dataset. We may also want to determine correlation among features other than survival for subsequent goals and workflow stages. Correlating certain features may help in creating, completing, or correcting features.\n",
    "\n",
    "**Converting.** For modeling stage, one needs to prepare the data. Depending on the choice of model algorithm one may require all features to be converted to numerical equivalent values. So for instance converting text categorical values to numeric values.\n",
    "\n",
    "**Completing.** Data preparation may also require us to estimate any missing values within a feature. Model algorithms may work best when there are no missing values.\n",
    "\n",
    "**Correcting.** We may also analyze the given training dataset for errors or possibly innacurate values within features and try to corrent these values or exclude the samples containing the errors. One way to do this is to detect any outliers among our samples or features. We may also completely discard a feature if it is not contribting to the analysis or may significantly skew the results.\n",
    "\n",
    "**Creating.** Can we create new features based on an existing feature or a set of features, such that the new feature follows the correlation, conversion, completeness goals.\n",
    "\n",
    "**Charting.** How to select the right visualization plots and charts depending on nature of the data and the solution goals."
   ]
  },
  {
   "cell_type": "code",
   "execution_count": 1,
   "metadata": {
    "_cell_guid": "5767a33c-8f18-4034-e52d-bf7a8f7d8ab8",
    "_uuid": "847a9b3972a6be2d2f3346ff01fea976d92ecdb6"
   },
   "outputs": [],
   "source": [
    "# data analysis and wrangling\n",
    "import pandas as pd\n",
    "import numpy as np\n",
    "import random as rnd\n",
    "\n",
    "# visualization\n",
    "import seaborn as sns\n",
    "import graphviz\n",
    "import matplotlib.pyplot as plt\n",
    "%matplotlib inline\n",
    "\n",
    "# machine learning\n",
    "from sklearn.linear_model import LogisticRegression\n",
    "from sklearn.svm import SVC, LinearSVC\n",
    "from sklearn.ensemble import RandomForestClassifier\n",
    "from sklearn.neighbors import KNeighborsClassifier\n",
    "from sklearn.naive_bayes import GaussianNB\n",
    "from sklearn.linear_model import Perceptron\n",
    "from sklearn.linear_model import SGDClassifier\n",
    "from sklearn.tree import DecisionTreeClassifier\n",
    "from sklearn.preprocessing import StandardScaler\n",
    "from sklearn import tree\n",
    "from sklearn.metrics import confusion_matrix\n",
    "from sklearn.model_selection import train_test_split\n",
    "\n",
    "import tensorflow as tf\n",
    "\n",
    "# Set seed for reproducibility\n",
    "seed = 7\n",
    "np.random.seed(seed)"
   ]
  },
  {
   "cell_type": "markdown",
   "metadata": {
    "_cell_guid": "6b5dc743-15b1-aac6-405e-081def6ecca1",
    "_uuid": "2d307b99ee3d19da3c1cddf509ed179c21dec94a"
   },
   "source": [
    "## Acquire data\n",
    "\n",
    "The Python Pandas packages helps us work with our datasets. We start by acquiring the training and testing datasets into Pandas DataFrames. We also combine these datasets to run certain operations on both datasets together."
   ]
  },
  {
   "cell_type": "code",
   "execution_count": 2,
   "metadata": {
    "_cell_guid": "e7319668-86fe-8adc-438d-0eef3fd0a982",
    "_uuid": "13f38775c12ad6f914254a08f0d1ef948a2bd453"
   },
   "outputs": [],
   "source": [
    "train_df = pd.read_csv('input/train.csv')\n",
    "test_df = pd.read_csv('input/test.csv')\n",
    "combine = [train_df, test_df]"
   ]
  },
  {
   "cell_type": "markdown",
   "metadata": {
    "_cell_guid": "3d6188f3-dc82-8ae6-dabd-83e28fcbf10d",
    "_uuid": "79282222056237a52bbbb1dbd831f057f1c23d69"
   },
   "source": [
    "## Analyze by describing data\n",
    "\n",
    "Pandas also helps describe the datasets answering following questions early in our project.\n",
    "\n",
    "**Which features are available in the dataset?**\n",
    "\n",
    "Noting the feature names for directly manipulating or analyzing these. These feature names are described on the [Kaggle data page here](https://www.kaggle.com/c/titanic/data)."
   ]
  },
  {
   "cell_type": "code",
   "execution_count": 3,
   "metadata": {
    "_cell_guid": "ce473d29-8d19-76b8-24a4-48c217286e42",
    "_uuid": "ef106f38a00e162a80c523778af6dcc778ccc1c2"
   },
   "outputs": [
    {
     "name": "stdout",
     "output_type": "stream",
     "text": [
      "['PassengerId' 'Survived' 'Pclass' 'Name' 'Sex' 'Age' 'SibSp' 'Parch'\n",
      " 'Ticket' 'Fare' 'Cabin' 'Embarked']\n"
     ]
    }
   ],
   "source": [
    "print(train_df.columns.values)"
   ]
  },
  {
   "cell_type": "markdown",
   "metadata": {
    "_cell_guid": "cd19a6f6-347f-be19-607b-dca950590b37",
    "_uuid": "1d7acf42af29a63bc038f14eded24e8b8146f541"
   },
   "source": [
    "**Which features are categorical?**\n",
    "\n",
    "These values classify the samples into sets of similar samples. Within categorical features are the values nominal, ordinal, ratio, or interval based? Among other things this helps us select the appropriate plots for visualization.\n",
    "\n",
    "- Categorical: Survived, Sex, and Embarked. Ordinal: Pclass.\n",
    "\n",
    "**Which features are numerical?**\n",
    "\n",
    "Which features are numerical? These values change from sample to sample. Within numerical features are the values discrete, continuous, or timeseries based? Among other things this helps us select the appropriate plots for visualization.\n",
    "\n",
    "- Continous: Age, Fare. Discrete: SibSp, Parch."
   ]
  },
  {
   "cell_type": "code",
   "execution_count": 4,
   "metadata": {
    "_cell_guid": "8d7ac195-ac1a-30a4-3f3f-80b8cf2c1c0f",
    "_uuid": "e068cd3a0465b65a0930a100cb348b9146d5fd2f"
   },
   "outputs": [
    {
     "data": {
      "text/html": [
       "<div>\n",
       "<style scoped>\n",
       "    .dataframe tbody tr th:only-of-type {\n",
       "        vertical-align: middle;\n",
       "    }\n",
       "\n",
       "    .dataframe tbody tr th {\n",
       "        vertical-align: top;\n",
       "    }\n",
       "\n",
       "    .dataframe thead th {\n",
       "        text-align: right;\n",
       "    }\n",
       "</style>\n",
       "<table border=\"1\" class=\"dataframe\">\n",
       "  <thead>\n",
       "    <tr style=\"text-align: right;\">\n",
       "      <th></th>\n",
       "      <th>PassengerId</th>\n",
       "      <th>Survived</th>\n",
       "      <th>Pclass</th>\n",
       "      <th>Name</th>\n",
       "      <th>Sex</th>\n",
       "      <th>Age</th>\n",
       "      <th>SibSp</th>\n",
       "      <th>Parch</th>\n",
       "      <th>Ticket</th>\n",
       "      <th>Fare</th>\n",
       "      <th>Cabin</th>\n",
       "      <th>Embarked</th>\n",
       "    </tr>\n",
       "  </thead>\n",
       "  <tbody>\n",
       "    <tr>\n",
       "      <td>0</td>\n",
       "      <td>1</td>\n",
       "      <td>0</td>\n",
       "      <td>3</td>\n",
       "      <td>Braund, Mr. Owen Harris</td>\n",
       "      <td>male</td>\n",
       "      <td>22.0</td>\n",
       "      <td>1</td>\n",
       "      <td>0</td>\n",
       "      <td>A/5 21171</td>\n",
       "      <td>7.2500</td>\n",
       "      <td>NaN</td>\n",
       "      <td>S</td>\n",
       "    </tr>\n",
       "    <tr>\n",
       "      <td>1</td>\n",
       "      <td>2</td>\n",
       "      <td>1</td>\n",
       "      <td>1</td>\n",
       "      <td>Cumings, Mrs. John Bradley (Florence Briggs Th...</td>\n",
       "      <td>female</td>\n",
       "      <td>38.0</td>\n",
       "      <td>1</td>\n",
       "      <td>0</td>\n",
       "      <td>PC 17599</td>\n",
       "      <td>71.2833</td>\n",
       "      <td>C85</td>\n",
       "      <td>C</td>\n",
       "    </tr>\n",
       "    <tr>\n",
       "      <td>2</td>\n",
       "      <td>3</td>\n",
       "      <td>1</td>\n",
       "      <td>3</td>\n",
       "      <td>Heikkinen, Miss. Laina</td>\n",
       "      <td>female</td>\n",
       "      <td>26.0</td>\n",
       "      <td>0</td>\n",
       "      <td>0</td>\n",
       "      <td>STON/O2. 3101282</td>\n",
       "      <td>7.9250</td>\n",
       "      <td>NaN</td>\n",
       "      <td>S</td>\n",
       "    </tr>\n",
       "    <tr>\n",
       "      <td>3</td>\n",
       "      <td>4</td>\n",
       "      <td>1</td>\n",
       "      <td>1</td>\n",
       "      <td>Futrelle, Mrs. Jacques Heath (Lily May Peel)</td>\n",
       "      <td>female</td>\n",
       "      <td>35.0</td>\n",
       "      <td>1</td>\n",
       "      <td>0</td>\n",
       "      <td>113803</td>\n",
       "      <td>53.1000</td>\n",
       "      <td>C123</td>\n",
       "      <td>S</td>\n",
       "    </tr>\n",
       "    <tr>\n",
       "      <td>4</td>\n",
       "      <td>5</td>\n",
       "      <td>0</td>\n",
       "      <td>3</td>\n",
       "      <td>Allen, Mr. William Henry</td>\n",
       "      <td>male</td>\n",
       "      <td>35.0</td>\n",
       "      <td>0</td>\n",
       "      <td>0</td>\n",
       "      <td>373450</td>\n",
       "      <td>8.0500</td>\n",
       "      <td>NaN</td>\n",
       "      <td>S</td>\n",
       "    </tr>\n",
       "  </tbody>\n",
       "</table>\n",
       "</div>"
      ],
      "text/plain": [
       "   PassengerId  Survived  Pclass  \\\n",
       "0            1         0       3   \n",
       "1            2         1       1   \n",
       "2            3         1       3   \n",
       "3            4         1       1   \n",
       "4            5         0       3   \n",
       "\n",
       "                                                Name     Sex   Age  SibSp  \\\n",
       "0                            Braund, Mr. Owen Harris    male  22.0      1   \n",
       "1  Cumings, Mrs. John Bradley (Florence Briggs Th...  female  38.0      1   \n",
       "2                             Heikkinen, Miss. Laina  female  26.0      0   \n",
       "3       Futrelle, Mrs. Jacques Heath (Lily May Peel)  female  35.0      1   \n",
       "4                           Allen, Mr. William Henry    male  35.0      0   \n",
       "\n",
       "   Parch            Ticket     Fare Cabin Embarked  \n",
       "0      0         A/5 21171   7.2500   NaN        S  \n",
       "1      0          PC 17599  71.2833   C85        C  \n",
       "2      0  STON/O2. 3101282   7.9250   NaN        S  \n",
       "3      0            113803  53.1000  C123        S  \n",
       "4      0            373450   8.0500   NaN        S  "
      ]
     },
     "execution_count": 4,
     "metadata": {},
     "output_type": "execute_result"
    }
   ],
   "source": [
    "# preview the data\n",
    "train_df.head()"
   ]
  },
  {
   "cell_type": "markdown",
   "metadata": {
    "_cell_guid": "97f4e6f8-2fea-46c4-e4e8-b69062ee3d46",
    "_uuid": "c34fa51a38336d97d5f6a184908cca37daebd584"
   },
   "source": [
    "**Which features are mixed data types?**\n",
    "\n",
    "Numerical, alphanumeric data within same feature. These are candidates for correcting goal.\n",
    "\n",
    "- Ticket is a mix of numeric and alphanumeric data types. Cabin is alphanumeric.\n",
    "\n",
    "**Which features may contain errors or typos?**\n",
    "\n",
    "This is harder to review for a large dataset, however reviewing a few samples from a smaller dataset may just tell us outright, which features may require correcting.\n",
    "\n",
    "- Name feature may contain errors or typos as there are several ways used to describe a name including titles, round brackets, and quotes used for alternative or short names."
   ]
  },
  {
   "cell_type": "code",
   "execution_count": 5,
   "metadata": {
    "_cell_guid": "f6e761c2-e2ff-d300-164c-af257083bb46",
    "_uuid": "3488e80f309d29f5b68bbcfaba8d78da84f4fb7d"
   },
   "outputs": [
    {
     "data": {
      "text/html": [
       "<div>\n",
       "<style scoped>\n",
       "    .dataframe tbody tr th:only-of-type {\n",
       "        vertical-align: middle;\n",
       "    }\n",
       "\n",
       "    .dataframe tbody tr th {\n",
       "        vertical-align: top;\n",
       "    }\n",
       "\n",
       "    .dataframe thead th {\n",
       "        text-align: right;\n",
       "    }\n",
       "</style>\n",
       "<table border=\"1\" class=\"dataframe\">\n",
       "  <thead>\n",
       "    <tr style=\"text-align: right;\">\n",
       "      <th></th>\n",
       "      <th>PassengerId</th>\n",
       "      <th>Survived</th>\n",
       "      <th>Pclass</th>\n",
       "      <th>Name</th>\n",
       "      <th>Sex</th>\n",
       "      <th>Age</th>\n",
       "      <th>SibSp</th>\n",
       "      <th>Parch</th>\n",
       "      <th>Ticket</th>\n",
       "      <th>Fare</th>\n",
       "      <th>Cabin</th>\n",
       "      <th>Embarked</th>\n",
       "    </tr>\n",
       "  </thead>\n",
       "  <tbody>\n",
       "    <tr>\n",
       "      <td>886</td>\n",
       "      <td>887</td>\n",
       "      <td>0</td>\n",
       "      <td>2</td>\n",
       "      <td>Montvila, Rev. Juozas</td>\n",
       "      <td>male</td>\n",
       "      <td>27.0</td>\n",
       "      <td>0</td>\n",
       "      <td>0</td>\n",
       "      <td>211536</td>\n",
       "      <td>13.00</td>\n",
       "      <td>NaN</td>\n",
       "      <td>S</td>\n",
       "    </tr>\n",
       "    <tr>\n",
       "      <td>887</td>\n",
       "      <td>888</td>\n",
       "      <td>1</td>\n",
       "      <td>1</td>\n",
       "      <td>Graham, Miss. Margaret Edith</td>\n",
       "      <td>female</td>\n",
       "      <td>19.0</td>\n",
       "      <td>0</td>\n",
       "      <td>0</td>\n",
       "      <td>112053</td>\n",
       "      <td>30.00</td>\n",
       "      <td>B42</td>\n",
       "      <td>S</td>\n",
       "    </tr>\n",
       "    <tr>\n",
       "      <td>888</td>\n",
       "      <td>889</td>\n",
       "      <td>0</td>\n",
       "      <td>3</td>\n",
       "      <td>Johnston, Miss. Catherine Helen \"Carrie\"</td>\n",
       "      <td>female</td>\n",
       "      <td>NaN</td>\n",
       "      <td>1</td>\n",
       "      <td>2</td>\n",
       "      <td>W./C. 6607</td>\n",
       "      <td>23.45</td>\n",
       "      <td>NaN</td>\n",
       "      <td>S</td>\n",
       "    </tr>\n",
       "    <tr>\n",
       "      <td>889</td>\n",
       "      <td>890</td>\n",
       "      <td>1</td>\n",
       "      <td>1</td>\n",
       "      <td>Behr, Mr. Karl Howell</td>\n",
       "      <td>male</td>\n",
       "      <td>26.0</td>\n",
       "      <td>0</td>\n",
       "      <td>0</td>\n",
       "      <td>111369</td>\n",
       "      <td>30.00</td>\n",
       "      <td>C148</td>\n",
       "      <td>C</td>\n",
       "    </tr>\n",
       "    <tr>\n",
       "      <td>890</td>\n",
       "      <td>891</td>\n",
       "      <td>0</td>\n",
       "      <td>3</td>\n",
       "      <td>Dooley, Mr. Patrick</td>\n",
       "      <td>male</td>\n",
       "      <td>32.0</td>\n",
       "      <td>0</td>\n",
       "      <td>0</td>\n",
       "      <td>370376</td>\n",
       "      <td>7.75</td>\n",
       "      <td>NaN</td>\n",
       "      <td>Q</td>\n",
       "    </tr>\n",
       "  </tbody>\n",
       "</table>\n",
       "</div>"
      ],
      "text/plain": [
       "     PassengerId  Survived  Pclass                                      Name  \\\n",
       "886          887         0       2                     Montvila, Rev. Juozas   \n",
       "887          888         1       1              Graham, Miss. Margaret Edith   \n",
       "888          889         0       3  Johnston, Miss. Catherine Helen \"Carrie\"   \n",
       "889          890         1       1                     Behr, Mr. Karl Howell   \n",
       "890          891         0       3                       Dooley, Mr. Patrick   \n",
       "\n",
       "        Sex   Age  SibSp  Parch      Ticket   Fare Cabin Embarked  \n",
       "886    male  27.0      0      0      211536  13.00   NaN        S  \n",
       "887  female  19.0      0      0      112053  30.00   B42        S  \n",
       "888  female   NaN      1      2  W./C. 6607  23.45   NaN        S  \n",
       "889    male  26.0      0      0      111369  30.00  C148        C  \n",
       "890    male  32.0      0      0      370376   7.75   NaN        Q  "
      ]
     },
     "execution_count": 5,
     "metadata": {},
     "output_type": "execute_result"
    }
   ],
   "source": [
    "train_df.tail()"
   ]
  },
  {
   "cell_type": "markdown",
   "metadata": {
    "_cell_guid": "8bfe9610-689a-29b2-26ee-f67cd4719079",
    "_uuid": "699c52b7a8d076ccd5ea5bc5d606313c558a6e8e"
   },
   "source": [
    "**Which features contain blank, null or empty values?**\n",
    "\n",
    "These will require correcting.\n",
    "\n",
    "- Cabin > Age > Embarked features contain a number of null values in that order for the training dataset.\n",
    "- Cabin > Age are incomplete in case of test dataset.\n",
    "\n",
    "**What are the data types for various features?**\n",
    "\n",
    "Helping us during converting goal.\n",
    "\n",
    "- Seven features are integer or floats. Six in case of test dataset.\n",
    "- Five features are strings (object)."
   ]
  },
  {
   "cell_type": "code",
   "execution_count": 6,
   "metadata": {
    "_cell_guid": "9b805f69-665a-2b2e-f31d-50d87d52865d",
    "_uuid": "817e1cf0ca1cb96c7a28bb81192d92261a8bf427"
   },
   "outputs": [
    {
     "name": "stdout",
     "output_type": "stream",
     "text": [
      "<class 'pandas.core.frame.DataFrame'>\n",
      "RangeIndex: 891 entries, 0 to 890\n",
      "Data columns (total 12 columns):\n",
      "PassengerId    891 non-null int64\n",
      "Survived       891 non-null int64\n",
      "Pclass         891 non-null int64\n",
      "Name           891 non-null object\n",
      "Sex            891 non-null object\n",
      "Age            714 non-null float64\n",
      "SibSp          891 non-null int64\n",
      "Parch          891 non-null int64\n",
      "Ticket         891 non-null object\n",
      "Fare           891 non-null float64\n",
      "Cabin          204 non-null object\n",
      "Embarked       889 non-null object\n",
      "dtypes: float64(2), int64(5), object(5)\n",
      "memory usage: 83.7+ KB\n",
      "________________________________________\n",
      "<class 'pandas.core.frame.DataFrame'>\n",
      "RangeIndex: 418 entries, 0 to 417\n",
      "Data columns (total 11 columns):\n",
      "PassengerId    418 non-null int64\n",
      "Pclass         418 non-null int64\n",
      "Name           418 non-null object\n",
      "Sex            418 non-null object\n",
      "Age            332 non-null float64\n",
      "SibSp          418 non-null int64\n",
      "Parch          418 non-null int64\n",
      "Ticket         418 non-null object\n",
      "Fare           417 non-null float64\n",
      "Cabin          91 non-null object\n",
      "Embarked       418 non-null object\n",
      "dtypes: float64(2), int64(4), object(5)\n",
      "memory usage: 36.0+ KB\n"
     ]
    }
   ],
   "source": [
    "train_df.info()\n",
    "print('_'*40)\n",
    "test_df.info()"
   ]
  },
  {
   "cell_type": "markdown",
   "metadata": {
    "_cell_guid": "859102e1-10df-d451-2649-2d4571e5f082",
    "_uuid": "2b7c205bf25979e3242762bfebb0e3eb2fd63010"
   },
   "source": [
    "**What is the distribution of numerical feature values across the samples?**\n",
    "\n",
    "This helps us determine, among other early insights, how representative is the training dataset of the actual problem domain.\n",
    "\n",
    "- Total samples are 891 or 40% of the actual number of passengers on board the Titanic (2,224).\n",
    "- Survived is a categorical feature with 0 or 1 values.\n",
    "- Around 38% samples survived representative of the actual survival rate at 32%.\n",
    "- Most passengers (> 75%) did not travel with parents or children.\n",
    "- <=50% of the passengers had siblings and/or spouse aboard.\n",
    "- Fares varied significantly with some passengers paying as high as $512."
   ]
  },
  {
   "cell_type": "code",
   "execution_count": 7,
   "metadata": {
    "_cell_guid": "58e387fe-86e4-e068-8307-70e37fe3f37b",
    "_uuid": "380251a1c1e0b89147d321968dc739b6cc0eecf2"
   },
   "outputs": [
    {
     "data": {
      "text/html": [
       "<div>\n",
       "<style scoped>\n",
       "    .dataframe tbody tr th:only-of-type {\n",
       "        vertical-align: middle;\n",
       "    }\n",
       "\n",
       "    .dataframe tbody tr th {\n",
       "        vertical-align: top;\n",
       "    }\n",
       "\n",
       "    .dataframe thead th {\n",
       "        text-align: right;\n",
       "    }\n",
       "</style>\n",
       "<table border=\"1\" class=\"dataframe\">\n",
       "  <thead>\n",
       "    <tr style=\"text-align: right;\">\n",
       "      <th></th>\n",
       "      <th>PassengerId</th>\n",
       "      <th>Survived</th>\n",
       "      <th>Pclass</th>\n",
       "      <th>Age</th>\n",
       "      <th>SibSp</th>\n",
       "      <th>Parch</th>\n",
       "      <th>Fare</th>\n",
       "    </tr>\n",
       "  </thead>\n",
       "  <tbody>\n",
       "    <tr>\n",
       "      <td>count</td>\n",
       "      <td>891.000000</td>\n",
       "      <td>891.000000</td>\n",
       "      <td>891.000000</td>\n",
       "      <td>714.000000</td>\n",
       "      <td>891.000000</td>\n",
       "      <td>891.000000</td>\n",
       "      <td>891.000000</td>\n",
       "    </tr>\n",
       "    <tr>\n",
       "      <td>mean</td>\n",
       "      <td>446.000000</td>\n",
       "      <td>0.383838</td>\n",
       "      <td>2.308642</td>\n",
       "      <td>29.699118</td>\n",
       "      <td>0.523008</td>\n",
       "      <td>0.381594</td>\n",
       "      <td>32.204208</td>\n",
       "    </tr>\n",
       "    <tr>\n",
       "      <td>std</td>\n",
       "      <td>257.353842</td>\n",
       "      <td>0.486592</td>\n",
       "      <td>0.836071</td>\n",
       "      <td>14.526497</td>\n",
       "      <td>1.102743</td>\n",
       "      <td>0.806057</td>\n",
       "      <td>49.693429</td>\n",
       "    </tr>\n",
       "    <tr>\n",
       "      <td>min</td>\n",
       "      <td>1.000000</td>\n",
       "      <td>0.000000</td>\n",
       "      <td>1.000000</td>\n",
       "      <td>0.420000</td>\n",
       "      <td>0.000000</td>\n",
       "      <td>0.000000</td>\n",
       "      <td>0.000000</td>\n",
       "    </tr>\n",
       "    <tr>\n",
       "      <td>25%</td>\n",
       "      <td>223.500000</td>\n",
       "      <td>0.000000</td>\n",
       "      <td>2.000000</td>\n",
       "      <td>20.125000</td>\n",
       "      <td>0.000000</td>\n",
       "      <td>0.000000</td>\n",
       "      <td>7.910400</td>\n",
       "    </tr>\n",
       "    <tr>\n",
       "      <td>50%</td>\n",
       "      <td>446.000000</td>\n",
       "      <td>0.000000</td>\n",
       "      <td>3.000000</td>\n",
       "      <td>28.000000</td>\n",
       "      <td>0.000000</td>\n",
       "      <td>0.000000</td>\n",
       "      <td>14.454200</td>\n",
       "    </tr>\n",
       "    <tr>\n",
       "      <td>75%</td>\n",
       "      <td>668.500000</td>\n",
       "      <td>1.000000</td>\n",
       "      <td>3.000000</td>\n",
       "      <td>38.000000</td>\n",
       "      <td>1.000000</td>\n",
       "      <td>0.000000</td>\n",
       "      <td>31.000000</td>\n",
       "    </tr>\n",
       "    <tr>\n",
       "      <td>max</td>\n",
       "      <td>891.000000</td>\n",
       "      <td>1.000000</td>\n",
       "      <td>3.000000</td>\n",
       "      <td>80.000000</td>\n",
       "      <td>8.000000</td>\n",
       "      <td>6.000000</td>\n",
       "      <td>512.329200</td>\n",
       "    </tr>\n",
       "  </tbody>\n",
       "</table>\n",
       "</div>"
      ],
      "text/plain": [
       "       PassengerId    Survived      Pclass         Age       SibSp  \\\n",
       "count   891.000000  891.000000  891.000000  714.000000  891.000000   \n",
       "mean    446.000000    0.383838    2.308642   29.699118    0.523008   \n",
       "std     257.353842    0.486592    0.836071   14.526497    1.102743   \n",
       "min       1.000000    0.000000    1.000000    0.420000    0.000000   \n",
       "25%     223.500000    0.000000    2.000000   20.125000    0.000000   \n",
       "50%     446.000000    0.000000    3.000000   28.000000    0.000000   \n",
       "75%     668.500000    1.000000    3.000000   38.000000    1.000000   \n",
       "max     891.000000    1.000000    3.000000   80.000000    8.000000   \n",
       "\n",
       "            Parch        Fare  \n",
       "count  891.000000  891.000000  \n",
       "mean     0.381594   32.204208  \n",
       "std      0.806057   49.693429  \n",
       "min      0.000000    0.000000  \n",
       "25%      0.000000    7.910400  \n",
       "50%      0.000000   14.454200  \n",
       "75%      0.000000   31.000000  \n",
       "max      6.000000  512.329200  "
      ]
     },
     "execution_count": 7,
     "metadata": {},
     "output_type": "execute_result"
    }
   ],
   "source": [
    "train_df.describe()"
   ]
  },
  {
   "cell_type": "markdown",
   "metadata": {
    "_cell_guid": "5462bc60-258c-76bf-0a73-9adc00a2f493",
    "_uuid": "33bbd1709db622978c0c5879e7c5532d4734ade0"
   },
   "source": [
    "**What is the distribution of categorical features?**\n",
    "\n",
    "- Names are unique across the dataset (count=unique=891)\n",
    "- Sex variable as two possible values with 65% male (top=male, freq=577/count=891).\n",
    "- Cabin values have several dupicates across samples. Alternatively several passengers shared a cabin.\n",
    "- Embarked takes three possible values. S port used by most passengers (top=S)\n",
    "- Ticket feature has high ratio (22%) of duplicate values (unique=681)."
   ]
  },
  {
   "cell_type": "code",
   "execution_count": 8,
   "metadata": {
    "_cell_guid": "8066b378-1964-92e8-1352-dcac934c6af3",
    "_uuid": "daa8663f577f9c1a478496cf14fe363570457191"
   },
   "outputs": [
    {
     "data": {
      "text/html": [
       "<div>\n",
       "<style scoped>\n",
       "    .dataframe tbody tr th:only-of-type {\n",
       "        vertical-align: middle;\n",
       "    }\n",
       "\n",
       "    .dataframe tbody tr th {\n",
       "        vertical-align: top;\n",
       "    }\n",
       "\n",
       "    .dataframe thead th {\n",
       "        text-align: right;\n",
       "    }\n",
       "</style>\n",
       "<table border=\"1\" class=\"dataframe\">\n",
       "  <thead>\n",
       "    <tr style=\"text-align: right;\">\n",
       "      <th></th>\n",
       "      <th>Name</th>\n",
       "      <th>Sex</th>\n",
       "      <th>Ticket</th>\n",
       "      <th>Cabin</th>\n",
       "      <th>Embarked</th>\n",
       "    </tr>\n",
       "  </thead>\n",
       "  <tbody>\n",
       "    <tr>\n",
       "      <td>count</td>\n",
       "      <td>891</td>\n",
       "      <td>891</td>\n",
       "      <td>891</td>\n",
       "      <td>204</td>\n",
       "      <td>889</td>\n",
       "    </tr>\n",
       "    <tr>\n",
       "      <td>unique</td>\n",
       "      <td>891</td>\n",
       "      <td>2</td>\n",
       "      <td>681</td>\n",
       "      <td>147</td>\n",
       "      <td>3</td>\n",
       "    </tr>\n",
       "    <tr>\n",
       "      <td>top</td>\n",
       "      <td>Salkjelsvik, Miss. Anna Kristine</td>\n",
       "      <td>male</td>\n",
       "      <td>1601</td>\n",
       "      <td>B96 B98</td>\n",
       "      <td>S</td>\n",
       "    </tr>\n",
       "    <tr>\n",
       "      <td>freq</td>\n",
       "      <td>1</td>\n",
       "      <td>577</td>\n",
       "      <td>7</td>\n",
       "      <td>4</td>\n",
       "      <td>644</td>\n",
       "    </tr>\n",
       "  </tbody>\n",
       "</table>\n",
       "</div>"
      ],
      "text/plain": [
       "                                    Name   Sex Ticket    Cabin Embarked\n",
       "count                                891   891    891      204      889\n",
       "unique                               891     2    681      147        3\n",
       "top     Salkjelsvik, Miss. Anna Kristine  male   1601  B96 B98        S\n",
       "freq                                   1   577      7        4      644"
      ]
     },
     "execution_count": 8,
     "metadata": {},
     "output_type": "execute_result"
    }
   ],
   "source": [
    "train_df.describe(include=['O'])"
   ]
  },
  {
   "cell_type": "markdown",
   "metadata": {
    "_cell_guid": "2cb22b88-937d-6f14-8b06-ea3361357889",
    "_uuid": "c1d35ebd89a0cf7d7b409470bbb9ecaffd2a9680"
   },
   "source": [
    "### Assumptions based on data analysis\n",
    "\n",
    "We arrive at following assumptions based on data analysis done so far. We may validate these assumptions further before taking appropriate actions.\n",
    "\n",
    "**Correlating.**\n",
    "\n",
    "We want to know how well does each feature correlate with Survival. We want to do this early in our project and match these quick correlations with modelled correlations later in the project.\n",
    "\n",
    "**Completing.**\n",
    "\n",
    "1. We may want to complete Age feature as it is definitely correlated to survival.\n",
    "2. We may want to complete the Embarked feature as it may also correlate with survival or another important feature.\n",
    "\n",
    "**Correcting.**\n",
    "\n",
    "1. Ticket feature may be dropped from our analysis as it contains high ratio of duplicates and there may not be a correlation between Ticket and survival.\n",
    "2. Cabin feature may be dropped as it is highly incomplete or contains many null values both in training and test dataset.\n",
    "3. PassengerId may be dropped from training dataset as it does not contribute to survival.\n",
    "4. Name feature is relatively non-standard, may not contribute directly to survival, so maybe dropped.\n",
    "\n",
    "**Creating.**\n",
    "\n",
    "1. We may want to create a new feature called Family based on Parch and SibSp to get total count of family members on board.\n",
    "2. We may want to engineer the Name feature to extract Title as a new feature.\n",
    "\n",
    "**Classifying.**\n",
    "\n",
    "We may also add to our assumptions based on the problem description noted earlier.\n",
    "1. Women (Sex=female) were more likely to have survived.\n",
    "2. Children (Age<?) were more likely to have survived. \n",
    "3. The upper-class passengers (Pclass=1) were more likely to have survived."
   ]
  },
  {
   "cell_type": "markdown",
   "metadata": {
    "_cell_guid": "6db63a30-1d86-266e-2799-dded03c45816",
    "_uuid": "946ee6ca01a3e4eecfa373ca00f88042b683e2ad"
   },
   "source": [
    "## Analyze by pivoting features\n",
    "\n",
    "To confirm some of our observations and assumptions, we can quickly analyze our feature correlations by pivoting features against each other. We can only do so at this stage for features which do not have any empty values. It also makes sense doing so only for features which are categorical (Sex), ordinal (Pclass) or discrete (SibSp, Parch) type."
   ]
  },
  {
   "cell_type": "code",
   "execution_count": 9,
   "metadata": {
    "_cell_guid": "0964832a-a4be-2d6f-a89e-63526389cee9",
    "_uuid": "97a845528ce9f76e85055a4bb9e97c27091f6aa1"
   },
   "outputs": [
    {
     "data": {
      "text/html": [
       "<div>\n",
       "<style scoped>\n",
       "    .dataframe tbody tr th:only-of-type {\n",
       "        vertical-align: middle;\n",
       "    }\n",
       "\n",
       "    .dataframe tbody tr th {\n",
       "        vertical-align: top;\n",
       "    }\n",
       "\n",
       "    .dataframe thead th {\n",
       "        text-align: right;\n",
       "    }\n",
       "</style>\n",
       "<table border=\"1\" class=\"dataframe\">\n",
       "  <thead>\n",
       "    <tr style=\"text-align: right;\">\n",
       "      <th></th>\n",
       "      <th>Pclass</th>\n",
       "      <th>Survived</th>\n",
       "    </tr>\n",
       "  </thead>\n",
       "  <tbody>\n",
       "    <tr>\n",
       "      <td>0</td>\n",
       "      <td>1</td>\n",
       "      <td>0.629630</td>\n",
       "    </tr>\n",
       "    <tr>\n",
       "      <td>1</td>\n",
       "      <td>2</td>\n",
       "      <td>0.472826</td>\n",
       "    </tr>\n",
       "    <tr>\n",
       "      <td>2</td>\n",
       "      <td>3</td>\n",
       "      <td>0.242363</td>\n",
       "    </tr>\n",
       "  </tbody>\n",
       "</table>\n",
       "</div>"
      ],
      "text/plain": [
       "   Pclass  Survived\n",
       "0       1  0.629630\n",
       "1       2  0.472826\n",
       "2       3  0.242363"
      ]
     },
     "execution_count": 9,
     "metadata": {},
     "output_type": "execute_result"
    }
   ],
   "source": [
    "train_df[['Pclass', 'Survived']].groupby(['Pclass'], as_index=False).mean().sort_values(by='Survived', ascending=False)"
   ]
  },
  {
   "cell_type": "code",
   "execution_count": 10,
   "metadata": {
    "_cell_guid": "68908ba6-bfe9-5b31-cfde-6987fc0fbe9a",
    "_uuid": "00a2f2bca094c5984e6a232c730c8b232e7e20bb"
   },
   "outputs": [
    {
     "data": {
      "text/html": [
       "<div>\n",
       "<style scoped>\n",
       "    .dataframe tbody tr th:only-of-type {\n",
       "        vertical-align: middle;\n",
       "    }\n",
       "\n",
       "    .dataframe tbody tr th {\n",
       "        vertical-align: top;\n",
       "    }\n",
       "\n",
       "    .dataframe thead th {\n",
       "        text-align: right;\n",
       "    }\n",
       "</style>\n",
       "<table border=\"1\" class=\"dataframe\">\n",
       "  <thead>\n",
       "    <tr style=\"text-align: right;\">\n",
       "      <th></th>\n",
       "      <th>Sex</th>\n",
       "      <th>Survived</th>\n",
       "    </tr>\n",
       "  </thead>\n",
       "  <tbody>\n",
       "    <tr>\n",
       "      <td>0</td>\n",
       "      <td>female</td>\n",
       "      <td>0.742038</td>\n",
       "    </tr>\n",
       "    <tr>\n",
       "      <td>1</td>\n",
       "      <td>male</td>\n",
       "      <td>0.188908</td>\n",
       "    </tr>\n",
       "  </tbody>\n",
       "</table>\n",
       "</div>"
      ],
      "text/plain": [
       "      Sex  Survived\n",
       "0  female  0.742038\n",
       "1    male  0.188908"
      ]
     },
     "execution_count": 10,
     "metadata": {},
     "output_type": "execute_result"
    }
   ],
   "source": [
    "train_df[[\"Sex\", \"Survived\"]].groupby(['Sex'], as_index=False).mean().sort_values(by='Survived', ascending=False)"
   ]
  },
  {
   "cell_type": "code",
   "execution_count": 11,
   "metadata": {
    "_cell_guid": "01c06927-c5a6-342a-5aa8-2e486ec3fd7c",
    "_uuid": "a8f7a16c54417dcd86fc48aeef0c4b240d47d71b"
   },
   "outputs": [
    {
     "data": {
      "text/html": [
       "<div>\n",
       "<style scoped>\n",
       "    .dataframe tbody tr th:only-of-type {\n",
       "        vertical-align: middle;\n",
       "    }\n",
       "\n",
       "    .dataframe tbody tr th {\n",
       "        vertical-align: top;\n",
       "    }\n",
       "\n",
       "    .dataframe thead th {\n",
       "        text-align: right;\n",
       "    }\n",
       "</style>\n",
       "<table border=\"1\" class=\"dataframe\">\n",
       "  <thead>\n",
       "    <tr style=\"text-align: right;\">\n",
       "      <th></th>\n",
       "      <th>SibSp</th>\n",
       "      <th>Survived</th>\n",
       "    </tr>\n",
       "  </thead>\n",
       "  <tbody>\n",
       "    <tr>\n",
       "      <td>1</td>\n",
       "      <td>1</td>\n",
       "      <td>0.535885</td>\n",
       "    </tr>\n",
       "    <tr>\n",
       "      <td>2</td>\n",
       "      <td>2</td>\n",
       "      <td>0.464286</td>\n",
       "    </tr>\n",
       "    <tr>\n",
       "      <td>0</td>\n",
       "      <td>0</td>\n",
       "      <td>0.345395</td>\n",
       "    </tr>\n",
       "    <tr>\n",
       "      <td>3</td>\n",
       "      <td>3</td>\n",
       "      <td>0.250000</td>\n",
       "    </tr>\n",
       "    <tr>\n",
       "      <td>4</td>\n",
       "      <td>4</td>\n",
       "      <td>0.166667</td>\n",
       "    </tr>\n",
       "    <tr>\n",
       "      <td>5</td>\n",
       "      <td>5</td>\n",
       "      <td>0.000000</td>\n",
       "    </tr>\n",
       "    <tr>\n",
       "      <td>6</td>\n",
       "      <td>8</td>\n",
       "      <td>0.000000</td>\n",
       "    </tr>\n",
       "  </tbody>\n",
       "</table>\n",
       "</div>"
      ],
      "text/plain": [
       "   SibSp  Survived\n",
       "1      1  0.535885\n",
       "2      2  0.464286\n",
       "0      0  0.345395\n",
       "3      3  0.250000\n",
       "4      4  0.166667\n",
       "5      5  0.000000\n",
       "6      8  0.000000"
      ]
     },
     "execution_count": 11,
     "metadata": {},
     "output_type": "execute_result"
    }
   ],
   "source": [
    "train_df[[\"SibSp\", \"Survived\"]].groupby(['SibSp'], as_index=False).mean().sort_values(by='Survived', ascending=False)"
   ]
  },
  {
   "cell_type": "code",
   "execution_count": 12,
   "metadata": {
    "_cell_guid": "e686f98b-a8c9-68f8-36a4-d4598638bbd5",
    "_uuid": "5d953a6779b00b7f3794757dec8744a03162c8fd"
   },
   "outputs": [
    {
     "data": {
      "text/html": [
       "<div>\n",
       "<style scoped>\n",
       "    .dataframe tbody tr th:only-of-type {\n",
       "        vertical-align: middle;\n",
       "    }\n",
       "\n",
       "    .dataframe tbody tr th {\n",
       "        vertical-align: top;\n",
       "    }\n",
       "\n",
       "    .dataframe thead th {\n",
       "        text-align: right;\n",
       "    }\n",
       "</style>\n",
       "<table border=\"1\" class=\"dataframe\">\n",
       "  <thead>\n",
       "    <tr style=\"text-align: right;\">\n",
       "      <th></th>\n",
       "      <th>Parch</th>\n",
       "      <th>Survived</th>\n",
       "    </tr>\n",
       "  </thead>\n",
       "  <tbody>\n",
       "    <tr>\n",
       "      <td>3</td>\n",
       "      <td>3</td>\n",
       "      <td>0.600000</td>\n",
       "    </tr>\n",
       "    <tr>\n",
       "      <td>1</td>\n",
       "      <td>1</td>\n",
       "      <td>0.550847</td>\n",
       "    </tr>\n",
       "    <tr>\n",
       "      <td>2</td>\n",
       "      <td>2</td>\n",
       "      <td>0.500000</td>\n",
       "    </tr>\n",
       "    <tr>\n",
       "      <td>0</td>\n",
       "      <td>0</td>\n",
       "      <td>0.343658</td>\n",
       "    </tr>\n",
       "    <tr>\n",
       "      <td>5</td>\n",
       "      <td>5</td>\n",
       "      <td>0.200000</td>\n",
       "    </tr>\n",
       "    <tr>\n",
       "      <td>4</td>\n",
       "      <td>4</td>\n",
       "      <td>0.000000</td>\n",
       "    </tr>\n",
       "    <tr>\n",
       "      <td>6</td>\n",
       "      <td>6</td>\n",
       "      <td>0.000000</td>\n",
       "    </tr>\n",
       "  </tbody>\n",
       "</table>\n",
       "</div>"
      ],
      "text/plain": [
       "   Parch  Survived\n",
       "3      3  0.600000\n",
       "1      1  0.550847\n",
       "2      2  0.500000\n",
       "0      0  0.343658\n",
       "5      5  0.200000\n",
       "4      4  0.000000\n",
       "6      6  0.000000"
      ]
     },
     "execution_count": 12,
     "metadata": {},
     "output_type": "execute_result"
    }
   ],
   "source": [
    "train_df[[\"Parch\", \"Survived\"]].groupby(['Parch'], as_index=False).mean().sort_values(by='Survived', ascending=False)"
   ]
  },
  {
   "cell_type": "markdown",
   "metadata": {},
   "source": [
    "Observations\n",
    "- **Pclass** We observe significant correlation (>0.5) among Pclass=1 and Survived (classifying #3). We decide to include this feature in our model.\n",
    "- **Sex** We confirm the observation during problem definition that Sex=female had very high survival rate at 74% (classifying #1).\n",
    "- **SibSp and Parch** These features have zero correlation for certain values. It may be best to derive a feature or a set of features from these individual features (creating #1)."
   ]
  },
  {
   "cell_type": "markdown",
   "metadata": {
    "_cell_guid": "0d43550e-9eff-3859-3568-8856570eff76",
    "_uuid": "5c6204d01f5a9040cf0bb7c678686ae48daa201f"
   },
   "source": [
    "## Analyze by visualizing data\n",
    "\n",
    "Now we can continue confirming some of our assumptions using visualizations to analyze the data.\n",
    "### Correlating numerical features\n",
    "\n",
    "Let us start by understanding correlations between numerical features and our solution goal (Survived).\n",
    "\n",
    "A histogram chart is useful for analyzing continous numerical variables like Age where banding or ranges will help identify useful patterns. The histogram can indicate distribution of samples using automatically defined bins or equally ranged bands. This helps us answer questions relating to specific bands (Did infants have better survival rate?)\n",
    "\n",
    "Note that x-axis in historgram visualizations represents the count of samples or passengers.\n",
    "\n",
    "**Observations.**\n",
    "\n",
    "- Infants (Age <=4) had high survival rate.\n",
    "- Oldest passengers (Age = 80) survived.\n",
    "- Large number of 15-25 year olds did not survive.\n",
    "- Most passengers are in 15-35 age range.\n",
    "\n",
    "**Decisions.**\n",
    "\n",
    "This simple analysis confirms our assumptions as decisions for subsequent workflow stages.\n",
    "\n",
    "- We should consider Age (our assumption classifying #2) in our model training.\n",
    "- Complete the Age feature for null values (completing #1).\n",
    "- We should band age groups (creating #3)."
   ]
  },
  {
   "cell_type": "code",
   "execution_count": 13,
   "metadata": {
    "_cell_guid": "50294eac-263a-af78-cb7e-3778eb9ad41f",
    "_uuid": "d3a1fa63e9dd4f8a810086530a6363c94b36d030"
   },
   "outputs": [
    {
     "data": {
      "text/plain": [
       "<seaborn.axisgrid.FacetGrid at 0x1d139ccd358>"
      ]
     },
     "execution_count": 13,
     "metadata": {},
     "output_type": "execute_result"
    },
    {
     "data": {
      "image/png": "[encoded data removed]",
      "text/plain": [
       "<Figure size 432x216 with 2 Axes>"
      ]
     },
     "metadata": {
      "needs_background": "light"
     },
     "output_type": "display_data"
    }
   ],
   "source": [
    "g = sns.FacetGrid(train_df, col='Survived')\n",
    "g.map(plt.hist, 'Age', bins=20)"
   ]
  },
  {
   "cell_type": "markdown",
   "metadata": {
    "_cell_guid": "87096158-4017-9213-7225-a19aea67a800",
    "_uuid": "892259f68c2ecf64fd258965cff1ecfe77dd73a9"
   },
   "source": [
    "### Correlating numerical and ordinal features\n",
    "\n",
    "We can combine multiple features for identifying correlations using a single plot. This can be done with numerical and categorical features which have numeric values."
   ]
  },
  {
   "cell_type": "code",
   "execution_count": 14,
   "metadata": {
    "_cell_guid": "916fdc6b-0190-9267-1ea9-907a3d87330d",
    "_uuid": "4f5bcfa97c8a72f8b413c786954f3a68e135e05a"
   },
   "outputs": [
    {
     "data": {
      "image/png": "[encoded data removed]",
      "text/plain": [
       "<Figure size 514.88x475.2 with 6 Axes>"
      ]
     },
     "metadata": {
      "needs_background": "light"
     },
     "output_type": "display_data"
    }
   ],
   "source": [
    "# grid = sns.FacetGrid(train_df, col='Pclass', hue='Survived')\n",
    "grid = sns.FacetGrid(train_df, col='Survived', row='Pclass', height=2.2, aspect=1.6)\n",
    "grid.map(plt.hist, 'Age', alpha=.5, bins=20)\n",
    "grid.add_legend();"
   ]
  },
  {
   "cell_type": "markdown",
   "metadata": {},
   "source": [
    "**Observations.**\n",
    "\n",
    "- Pclass=3 had most passengers, however most did not survive. Confirms assumption that upper class was more likely to survive\n",
    "- Infant passengers in Pclass=2 and Pclass=3 mostly survived. Further confirms our assumptions\n",
    "- Most passengers in Pclass=1 survived. Also confirms our assumptions\n",
    "- Pclass varies in terms of Age distribution of passengers.\n",
    "\n",
    "**Decisions.**\n",
    "\n",
    "- Consider Pclass for model training."
   ]
  },
  {
   "cell_type": "markdown",
   "metadata": {
    "_cell_guid": "cfac6291-33cc-506e-e548-6cad9408623d",
    "_uuid": "73a9111a8dc2a6b8b6c78ef628b6cae2a63fc33f"
   },
   "source": [
    "## Validate, prepare, cleanse the data.\n",
    "\n",
    "We have collected several assumptions and decisions regarding our datasets and solution requirements. So far we did not have to change a single feature or value to arrive at these. Let us now execute our decisions and assumptions for correcting, creating, and completing goals.\n",
    "\n",
    "### Correcting by dropping features\n",
    "Based on our assumptions and decisions we want to drop the Cabin, Ticket and passengerId features.\n",
    "Note that where applicable we perform operations on both training and testing datasets together to stay consistent."
   ]
  },
  {
   "cell_type": "code",
   "execution_count": 15,
   "metadata": {
    "_cell_guid": "da057efe-88f0-bf49-917b-bb2fec418ed9",
    "_uuid": "e328d9882affedcfc4c167aa5bb1ac132547558c"
   },
   "outputs": [
    {
     "name": "stdout",
     "output_type": "stream",
     "text": [
      "Before (891, 12) (418, 11) (891, 12) (418, 11)\n"
     ]
    },
    {
     "data": {
      "text/plain": [
       "('After', (891, 8), (418, 7), (891, 8), (418, 7))"
      ]
     },
     "execution_count": 15,
     "metadata": {},
     "output_type": "execute_result"
    }
   ],
   "source": [
    "print(\"Before\", train_df.shape, test_df.shape, combine[0].shape, combine[1].shape)\n",
    "\n",
    "# Make copy of passengerId's for result submission.\n",
    "testPassengerIds = test_df['PassengerId']\n",
    "train_df = train_df.drop(['Ticket', 'Cabin', 'PassengerId', 'Name'], axis=1)\n",
    "test_df = test_df.drop(['Ticket', 'Cabin', 'PassengerId', 'Name'], axis=1)\n",
    "combine = [train_df, test_df]\n",
    "\n",
    "\"After\", train_df.shape, test_df.shape, combine[0].shape, combine[1].shape"
   ]
  },
  {
   "cell_type": "markdown",
   "metadata": {},
   "source": [
    "### Completing a categorical feature\n",
    "\n",
    "Embarked feature takes S, Q, C values based on port of embarkation.  \n",
    "Our training dataset has two missing values. We simply fill these with the most common occurance."
   ]
  },
  {
   "cell_type": "code",
   "execution_count": 16,
   "metadata": {},
   "outputs": [
    {
     "data": {
      "text/plain": [
       "'S'"
      ]
     },
     "execution_count": 16,
     "metadata": {},
     "output_type": "execute_result"
    }
   ],
   "source": [
    "freq_port = train_df.Embarked.dropna().mode()[0]\n",
    "freq_port "
   ]
  },
  {
   "cell_type": "code",
   "execution_count": 17,
   "metadata": {},
   "outputs": [],
   "source": [
    "combine = [train_df, test_df]\n",
    "for dataset in combine:\n",
    "    dataset['Embarked'] = dataset['Embarked'].fillna(freq_port)"
   ]
  },
  {
   "cell_type": "markdown",
   "metadata": {
    "_cell_guid": "2c8e84bb-196d-bd4a-4df9-f5213561b5d3",
    "_uuid": "a1ac66c79b279d94860e66996d3d8dba801a6d9a"
   },
   "source": [
    "### Converting a categorical feature\n",
    "\n",
    "Now we can convert features which contain strings representing types to numerical values.   \n",
    "This is required by most model algorithms.   "
   ]
  },
  {
   "cell_type": "code",
   "execution_count": 18,
   "metadata": {},
   "outputs": [
    {
     "data": {
      "text/html": [
       "<div>\n",
       "<style scoped>\n",
       "    .dataframe tbody tr th:only-of-type {\n",
       "        vertical-align: middle;\n",
       "    }\n",
       "\n",
       "    .dataframe tbody tr th {\n",
       "        vertical-align: top;\n",
       "    }\n",
       "\n",
       "    .dataframe thead th {\n",
       "        text-align: right;\n",
       "    }\n",
       "</style>\n",
       "<table border=\"1\" class=\"dataframe\">\n",
       "  <thead>\n",
       "    <tr style=\"text-align: right;\">\n",
       "      <th></th>\n",
       "      <th>Survived</th>\n",
       "      <th>Pclass</th>\n",
       "      <th>Age</th>\n",
       "      <th>SibSp</th>\n",
       "      <th>Parch</th>\n",
       "      <th>Fare</th>\n",
       "    </tr>\n",
       "  </thead>\n",
       "  <tbody>\n",
       "    <tr>\n",
       "      <td>count</td>\n",
       "      <td>891.000000</td>\n",
       "      <td>891.000000</td>\n",
       "      <td>714.000000</td>\n",
       "      <td>891.000000</td>\n",
       "      <td>891.000000</td>\n",
       "      <td>891.000000</td>\n",
       "    </tr>\n",
       "    <tr>\n",
       "      <td>mean</td>\n",
       "      <td>0.383838</td>\n",
       "      <td>2.308642</td>\n",
       "      <td>29.699118</td>\n",
       "      <td>0.523008</td>\n",
       "      <td>0.381594</td>\n",
       "      <td>32.204208</td>\n",
       "    </tr>\n",
       "    <tr>\n",
       "      <td>std</td>\n",
       "      <td>0.486592</td>\n",
       "      <td>0.836071</td>\n",
       "      <td>14.526497</td>\n",
       "      <td>1.102743</td>\n",
       "      <td>0.806057</td>\n",
       "      <td>49.693429</td>\n",
       "    </tr>\n",
       "    <tr>\n",
       "      <td>min</td>\n",
       "      <td>0.000000</td>\n",
       "      <td>1.000000</td>\n",
       "      <td>0.420000</td>\n",
       "      <td>0.000000</td>\n",
       "      <td>0.000000</td>\n",
       "      <td>0.000000</td>\n",
       "    </tr>\n",
       "    <tr>\n",
       "      <td>25%</td>\n",
       "      <td>0.000000</td>\n",
       "      <td>2.000000</td>\n",
       "      <td>20.125000</td>\n",
       "      <td>0.000000</td>\n",
       "      <td>0.000000</td>\n",
       "      <td>7.910400</td>\n",
       "    </tr>\n",
       "    <tr>\n",
       "      <td>50%</td>\n",
       "      <td>0.000000</td>\n",
       "      <td>3.000000</td>\n",
       "      <td>28.000000</td>\n",
       "      <td>0.000000</td>\n",
       "      <td>0.000000</td>\n",
       "      <td>14.454200</td>\n",
       "    </tr>\n",
       "    <tr>\n",
       "      <td>75%</td>\n",
       "      <td>1.000000</td>\n",
       "      <td>3.000000</td>\n",
       "      <td>38.000000</td>\n",
       "      <td>1.000000</td>\n",
       "      <td>0.000000</td>\n",
       "      <td>31.000000</td>\n",
       "    </tr>\n",
       "    <tr>\n",
       "      <td>max</td>\n",
       "      <td>1.000000</td>\n",
       "      <td>3.000000</td>\n",
       "      <td>80.000000</td>\n",
       "      <td>8.000000</td>\n",
       "      <td>6.000000</td>\n",
       "      <td>512.329200</td>\n",
       "    </tr>\n",
       "  </tbody>\n",
       "</table>\n",
       "</div>"
      ],
      "text/plain": [
       "         Survived      Pclass         Age       SibSp       Parch        Fare\n",
       "count  891.000000  891.000000  714.000000  891.000000  891.000000  891.000000\n",
       "mean     0.383838    2.308642   29.699118    0.523008    0.381594   32.204208\n",
       "std      0.486592    0.836071   14.526497    1.102743    0.806057   49.693429\n",
       "min      0.000000    1.000000    0.420000    0.000000    0.000000    0.000000\n",
       "25%      0.000000    2.000000   20.125000    0.000000    0.000000    7.910400\n",
       "50%      0.000000    3.000000   28.000000    0.000000    0.000000   14.454200\n",
       "75%      1.000000    3.000000   38.000000    1.000000    0.000000   31.000000\n",
       "max      1.000000    3.000000   80.000000    8.000000    6.000000  512.329200"
      ]
     },
     "execution_count": 18,
     "metadata": {},
     "output_type": "execute_result"
    }
   ],
   "source": [
    "train_df.describe()"
   ]
  },
  {
   "cell_type": "code",
   "execution_count": 19,
   "metadata": {},
   "outputs": [
    {
     "data": {
      "text/html": [
       "<div>\n",
       "<style scoped>\n",
       "    .dataframe tbody tr th:only-of-type {\n",
       "        vertical-align: middle;\n",
       "    }\n",
       "\n",
       "    .dataframe tbody tr th {\n",
       "        vertical-align: top;\n",
       "    }\n",
       "\n",
       "    .dataframe thead th {\n",
       "        text-align: right;\n",
       "    }\n",
       "</style>\n",
       "<table border=\"1\" class=\"dataframe\">\n",
       "  <thead>\n",
       "    <tr style=\"text-align: right;\">\n",
       "      <th></th>\n",
       "      <th>Survived</th>\n",
       "      <th>Pclass</th>\n",
       "      <th>Age</th>\n",
       "      <th>SibSp</th>\n",
       "      <th>Parch</th>\n",
       "      <th>Fare</th>\n",
       "      <th>Sex_female</th>\n",
       "      <th>Sex_male</th>\n",
       "      <th>Embarked_C</th>\n",
       "      <th>Embarked_Q</th>\n",
       "      <th>Embarked_S</th>\n",
       "    </tr>\n",
       "  </thead>\n",
       "  <tbody>\n",
       "    <tr>\n",
       "      <td>0</td>\n",
       "      <td>0</td>\n",
       "      <td>3</td>\n",
       "      <td>22.0</td>\n",
       "      <td>1</td>\n",
       "      <td>0</td>\n",
       "      <td>7.2500</td>\n",
       "      <td>0</td>\n",
       "      <td>1</td>\n",
       "      <td>0</td>\n",
       "      <td>0</td>\n",
       "      <td>1</td>\n",
       "    </tr>\n",
       "    <tr>\n",
       "      <td>1</td>\n",
       "      <td>1</td>\n",
       "      <td>1</td>\n",
       "      <td>38.0</td>\n",
       "      <td>1</td>\n",
       "      <td>0</td>\n",
       "      <td>71.2833</td>\n",
       "      <td>1</td>\n",
       "      <td>0</td>\n",
       "      <td>1</td>\n",
       "      <td>0</td>\n",
       "      <td>0</td>\n",
       "    </tr>\n",
       "    <tr>\n",
       "      <td>2</td>\n",
       "      <td>1</td>\n",
       "      <td>3</td>\n",
       "      <td>26.0</td>\n",
       "      <td>0</td>\n",
       "      <td>0</td>\n",
       "      <td>7.9250</td>\n",
       "      <td>1</td>\n",
       "      <td>0</td>\n",
       "      <td>0</td>\n",
       "      <td>0</td>\n",
       "      <td>1</td>\n",
       "    </tr>\n",
       "    <tr>\n",
       "      <td>3</td>\n",
       "      <td>1</td>\n",
       "      <td>1</td>\n",
       "      <td>35.0</td>\n",
       "      <td>1</td>\n",
       "      <td>0</td>\n",
       "      <td>53.1000</td>\n",
       "      <td>1</td>\n",
       "      <td>0</td>\n",
       "      <td>0</td>\n",
       "      <td>0</td>\n",
       "      <td>1</td>\n",
       "    </tr>\n",
       "    <tr>\n",
       "      <td>4</td>\n",
       "      <td>0</td>\n",
       "      <td>3</td>\n",
       "      <td>35.0</td>\n",
       "      <td>0</td>\n",
       "      <td>0</td>\n",
       "      <td>8.0500</td>\n",
       "      <td>0</td>\n",
       "      <td>1</td>\n",
       "      <td>0</td>\n",
       "      <td>0</td>\n",
       "      <td>1</td>\n",
       "    </tr>\n",
       "  </tbody>\n",
       "</table>\n",
       "</div>"
      ],
      "text/plain": [
       "   Survived  Pclass   Age  SibSp  Parch     Fare  Sex_female  Sex_male  \\\n",
       "0         0       3  22.0      1      0   7.2500           0         1   \n",
       "1         1       1  38.0      1      0  71.2833           1         0   \n",
       "2         1       3  26.0      0      0   7.9250           1         0   \n",
       "3         1       1  35.0      1      0  53.1000           1         0   \n",
       "4         0       3  35.0      0      0   8.0500           0         1   \n",
       "\n",
       "   Embarked_C  Embarked_Q  Embarked_S  \n",
       "0           0           0           1  \n",
       "1           1           0           0  \n",
       "2           0           0           1  \n",
       "3           0           0           1  \n",
       "4           0           0           1  "
      ]
     },
     "execution_count": 19,
     "metadata": {},
     "output_type": "execute_result"
    }
   ],
   "source": [
    "train_df = pd.get_dummies(train_df, columns = [\"Sex\", \"Embarked\"])\n",
    "test_df = pd.get_dummies(test_df, columns = [\"Sex\", \"Embarked\"])\n",
    "train_df.head()"
   ]
  },
  {
   "cell_type": "markdown",
   "metadata": {
    "_cell_guid": "d72cb29e-5034-1597-b459-83a9640d3d3a",
    "_uuid": "6da8bfe6c832f4bd2aa1312bdd6b8b4af48a012e"
   },
   "source": [
    "### Completing a numerical continuous feature\n",
    "\n",
    "Now we should start estimating and completing features with missing or null values. We will first do this for the Age feature.\n",
    "\n",
    "We can consider three methods to complete a numerical continuous feature.\n",
    "\n",
    "1. A simple way is to generate random numbers between mean and [standard deviation](https://en.wikipedia.org/wiki/Standard_deviation).\n",
    "\n",
    "2. More accurate way of guessing missing values is to use other correlated features. In our case we note correlation among Age, Gender, and Pclass. Guess Age values using [median](https://en.wikipedia.org/wiki/Median) values for Age across sets of Pclass and Gender feature combinations. So, median Age for Pclass=1 and Gender=0, Pclass=1 and Gender=1, and so on...\n",
    "\n",
    "3. Combine methods 1 and 2. So instead of guessing age values based on median, use random numbers between mean and standard deviation, based on sets of Pclass and Gender combinations.\n",
    "\n",
    "Method 1 and 3 will introduce random noise into our models. The results from multiple executions might vary. We should prefer method 2.  \n",
    "For simplicity however. We will fill age with median."
   ]
  },
  {
   "cell_type": "code",
   "execution_count": 20,
   "metadata": {},
   "outputs": [
    {
     "data": {
      "text/html": [
       "<div>\n",
       "<style scoped>\n",
       "    .dataframe tbody tr th:only-of-type {\n",
       "        vertical-align: middle;\n",
       "    }\n",
       "\n",
       "    .dataframe tbody tr th {\n",
       "        vertical-align: top;\n",
       "    }\n",
       "\n",
       "    .dataframe thead th {\n",
       "        text-align: right;\n",
       "    }\n",
       "</style>\n",
       "<table border=\"1\" class=\"dataframe\">\n",
       "  <thead>\n",
       "    <tr style=\"text-align: right;\">\n",
       "      <th></th>\n",
       "      <th>Survived</th>\n",
       "      <th>Pclass</th>\n",
       "      <th>Age</th>\n",
       "      <th>SibSp</th>\n",
       "      <th>Parch</th>\n",
       "      <th>Fare</th>\n",
       "      <th>Sex_female</th>\n",
       "      <th>Sex_male</th>\n",
       "      <th>Embarked_C</th>\n",
       "      <th>Embarked_Q</th>\n",
       "      <th>Embarked_S</th>\n",
       "    </tr>\n",
       "  </thead>\n",
       "  <tbody>\n",
       "    <tr>\n",
       "      <td>0</td>\n",
       "      <td>0</td>\n",
       "      <td>3</td>\n",
       "      <td>22.0</td>\n",
       "      <td>1</td>\n",
       "      <td>0</td>\n",
       "      <td>7.2500</td>\n",
       "      <td>0</td>\n",
       "      <td>1</td>\n",
       "      <td>0</td>\n",
       "      <td>0</td>\n",
       "      <td>1</td>\n",
       "    </tr>\n",
       "    <tr>\n",
       "      <td>1</td>\n",
       "      <td>1</td>\n",
       "      <td>1</td>\n",
       "      <td>38.0</td>\n",
       "      <td>1</td>\n",
       "      <td>0</td>\n",
       "      <td>71.2833</td>\n",
       "      <td>1</td>\n",
       "      <td>0</td>\n",
       "      <td>1</td>\n",
       "      <td>0</td>\n",
       "      <td>0</td>\n",
       "    </tr>\n",
       "    <tr>\n",
       "      <td>2</td>\n",
       "      <td>1</td>\n",
       "      <td>3</td>\n",
       "      <td>26.0</td>\n",
       "      <td>0</td>\n",
       "      <td>0</td>\n",
       "      <td>7.9250</td>\n",
       "      <td>1</td>\n",
       "      <td>0</td>\n",
       "      <td>0</td>\n",
       "      <td>0</td>\n",
       "      <td>1</td>\n",
       "    </tr>\n",
       "    <tr>\n",
       "      <td>3</td>\n",
       "      <td>1</td>\n",
       "      <td>1</td>\n",
       "      <td>35.0</td>\n",
       "      <td>1</td>\n",
       "      <td>0</td>\n",
       "      <td>53.1000</td>\n",
       "      <td>1</td>\n",
       "      <td>0</td>\n",
       "      <td>0</td>\n",
       "      <td>0</td>\n",
       "      <td>1</td>\n",
       "    </tr>\n",
       "    <tr>\n",
       "      <td>4</td>\n",
       "      <td>0</td>\n",
       "      <td>3</td>\n",
       "      <td>35.0</td>\n",
       "      <td>0</td>\n",
       "      <td>0</td>\n",
       "      <td>8.0500</td>\n",
       "      <td>0</td>\n",
       "      <td>1</td>\n",
       "      <td>0</td>\n",
       "      <td>0</td>\n",
       "      <td>1</td>\n",
       "    </tr>\n",
       "    <tr>\n",
       "      <td>...</td>\n",
       "      <td>...</td>\n",
       "      <td>...</td>\n",
       "      <td>...</td>\n",
       "      <td>...</td>\n",
       "      <td>...</td>\n",
       "      <td>...</td>\n",
       "      <td>...</td>\n",
       "      <td>...</td>\n",
       "      <td>...</td>\n",
       "      <td>...</td>\n",
       "      <td>...</td>\n",
       "    </tr>\n",
       "    <tr>\n",
       "      <td>886</td>\n",
       "      <td>0</td>\n",
       "      <td>2</td>\n",
       "      <td>27.0</td>\n",
       "      <td>0</td>\n",
       "      <td>0</td>\n",
       "      <td>13.0000</td>\n",
       "      <td>0</td>\n",
       "      <td>1</td>\n",
       "      <td>0</td>\n",
       "      <td>0</td>\n",
       "      <td>1</td>\n",
       "    </tr>\n",
       "    <tr>\n",
       "      <td>887</td>\n",
       "      <td>1</td>\n",
       "      <td>1</td>\n",
       "      <td>19.0</td>\n",
       "      <td>0</td>\n",
       "      <td>0</td>\n",
       "      <td>30.0000</td>\n",
       "      <td>1</td>\n",
       "      <td>0</td>\n",
       "      <td>0</td>\n",
       "      <td>0</td>\n",
       "      <td>1</td>\n",
       "    </tr>\n",
       "    <tr>\n",
       "      <td>888</td>\n",
       "      <td>0</td>\n",
       "      <td>3</td>\n",
       "      <td>28.0</td>\n",
       "      <td>1</td>\n",
       "      <td>2</td>\n",
       "      <td>23.4500</td>\n",
       "      <td>1</td>\n",
       "      <td>0</td>\n",
       "      <td>0</td>\n",
       "      <td>0</td>\n",
       "      <td>1</td>\n",
       "    </tr>\n",
       "    <tr>\n",
       "      <td>889</td>\n",
       "      <td>1</td>\n",
       "      <td>1</td>\n",
       "      <td>26.0</td>\n",
       "      <td>0</td>\n",
       "      <td>0</td>\n",
       "      <td>30.0000</td>\n",
       "      <td>0</td>\n",
       "      <td>1</td>\n",
       "      <td>1</td>\n",
       "      <td>0</td>\n",
       "      <td>0</td>\n",
       "    </tr>\n",
       "    <tr>\n",
       "      <td>890</td>\n",
       "      <td>0</td>\n",
       "      <td>3</td>\n",
       "      <td>32.0</td>\n",
       "      <td>0</td>\n",
       "      <td>0</td>\n",
       "      <td>7.7500</td>\n",
       "      <td>0</td>\n",
       "      <td>1</td>\n",
       "      <td>0</td>\n",
       "      <td>1</td>\n",
       "      <td>0</td>\n",
       "    </tr>\n",
       "  </tbody>\n",
       "</table>\n",
       "<p>891 rows × 11 columns</p>\n",
       "</div>"
      ],
      "text/plain": [
       "     Survived  Pclass   Age  SibSp  Parch     Fare  Sex_female  Sex_male  \\\n",
       "0           0       3  22.0      1      0   7.2500           0         1   \n",
       "1           1       1  38.0      1      0  71.2833           1         0   \n",
       "2           1       3  26.0      0      0   7.9250           1         0   \n",
       "3           1       1  35.0      1      0  53.1000           1         0   \n",
       "4           0       3  35.0      0      0   8.0500           0         1   \n",
       "..        ...     ...   ...    ...    ...      ...         ...       ...   \n",
       "886         0       2  27.0      0      0  13.0000           0         1   \n",
       "887         1       1  19.0      0      0  30.0000           1         0   \n",
       "888         0       3  28.0      1      2  23.4500           1         0   \n",
       "889         1       1  26.0      0      0  30.0000           0         1   \n",
       "890         0       3  32.0      0      0   7.7500           0         1   \n",
       "\n",
       "     Embarked_C  Embarked_Q  Embarked_S  \n",
       "0             0           0           1  \n",
       "1             1           0           0  \n",
       "2             0           0           1  \n",
       "3             0           0           1  \n",
       "4             0           0           1  \n",
       "..          ...         ...         ...  \n",
       "886           0           0           1  \n",
       "887           0           0           1  \n",
       "888           0           0           1  \n",
       "889           1           0           0  \n",
       "890           0           1           0  \n",
       "\n",
       "[891 rows x 11 columns]"
      ]
     },
     "execution_count": 20,
     "metadata": {},
     "output_type": "execute_result"
    }
   ],
   "source": [
    "median = train_df.append(test_df, sort='False').dropna()['Age'].median()\n",
    "\n",
    "combine = [train_df, test_df]\n",
    "for dataset in combine:\n",
    "    dataset['Age'].fillna(median, inplace=True)\n",
    "\n",
    "train_df"
   ]
  },
  {
   "cell_type": "markdown",
   "metadata": {
    "_cell_guid": "1c237b76-d7ac-098f-0156-480a838a64a9",
    "_uuid": "e3d4a2040c053fbd0486c8cfc4fec3224bd3ebb3"
   },
   "source": [
    "### Create new feature combining existing features\n",
    "\n",
    "We can create a new feature for FamilySize which combines Parch and SibSp. This will enable us to drop Parch and SibSp from our datasets and simplify the data for the algorithms"
   ]
  },
  {
   "cell_type": "code",
   "execution_count": 21,
   "metadata": {
    "_cell_guid": "7e6c04ed-cfaa-3139-4378-574fd095d6ba",
    "_uuid": "33d1236ce4a8ab888b9fac2d5af1c78d174b32c7"
   },
   "outputs": [
    {
     "data": {
      "text/html": [
       "<div>\n",
       "<style scoped>\n",
       "    .dataframe tbody tr th:only-of-type {\n",
       "        vertical-align: middle;\n",
       "    }\n",
       "\n",
       "    .dataframe tbody tr th {\n",
       "        vertical-align: top;\n",
       "    }\n",
       "\n",
       "    .dataframe thead th {\n",
       "        text-align: right;\n",
       "    }\n",
       "</style>\n",
       "<table border=\"1\" class=\"dataframe\">\n",
       "  <thead>\n",
       "    <tr style=\"text-align: right;\">\n",
       "      <th></th>\n",
       "      <th>FamilySize</th>\n",
       "      <th>Survived</th>\n",
       "    </tr>\n",
       "  </thead>\n",
       "  <tbody>\n",
       "    <tr>\n",
       "      <td>3</td>\n",
       "      <td>4</td>\n",
       "      <td>0.724138</td>\n",
       "    </tr>\n",
       "    <tr>\n",
       "      <td>2</td>\n",
       "      <td>3</td>\n",
       "      <td>0.578431</td>\n",
       "    </tr>\n",
       "    <tr>\n",
       "      <td>1</td>\n",
       "      <td>2</td>\n",
       "      <td>0.552795</td>\n",
       "    </tr>\n",
       "    <tr>\n",
       "      <td>6</td>\n",
       "      <td>7</td>\n",
       "      <td>0.333333</td>\n",
       "    </tr>\n",
       "    <tr>\n",
       "      <td>0</td>\n",
       "      <td>1</td>\n",
       "      <td>0.303538</td>\n",
       "    </tr>\n",
       "    <tr>\n",
       "      <td>4</td>\n",
       "      <td>5</td>\n",
       "      <td>0.200000</td>\n",
       "    </tr>\n",
       "    <tr>\n",
       "      <td>5</td>\n",
       "      <td>6</td>\n",
       "      <td>0.136364</td>\n",
       "    </tr>\n",
       "    <tr>\n",
       "      <td>7</td>\n",
       "      <td>8</td>\n",
       "      <td>0.000000</td>\n",
       "    </tr>\n",
       "    <tr>\n",
       "      <td>8</td>\n",
       "      <td>11</td>\n",
       "      <td>0.000000</td>\n",
       "    </tr>\n",
       "  </tbody>\n",
       "</table>\n",
       "</div>"
      ],
      "text/plain": [
       "   FamilySize  Survived\n",
       "3           4  0.724138\n",
       "2           3  0.578431\n",
       "1           2  0.552795\n",
       "6           7  0.333333\n",
       "0           1  0.303538\n",
       "4           5  0.200000\n",
       "5           6  0.136364\n",
       "7           8  0.000000\n",
       "8          11  0.000000"
      ]
     },
     "execution_count": 21,
     "metadata": {},
     "output_type": "execute_result"
    }
   ],
   "source": [
    "combine = [train_df, test_df]\n",
    "for dataset in combine:\n",
    "    dataset['FamilySize'] = dataset['SibSp'] + dataset['Parch'] + 1\n",
    "\n",
    "train_df[['FamilySize', 'Survived']].groupby(['FamilySize'], as_index=False).mean().sort_values(by='Survived', ascending=False)"
   ]
  },
  {
   "cell_type": "markdown",
   "metadata": {
    "_cell_guid": "842188e6-acf8-2476-ccec-9e3451e4fa86",
    "_uuid": "67f8e4474cd1ecf4261c153ce8b40ea23cf659e4"
   },
   "source": [
    "We can create another feature called IsAlone."
   ]
  },
  {
   "cell_type": "code",
   "execution_count": 22,
   "metadata": {
    "_cell_guid": "5c778c69-a9ae-1b6b-44fe-a0898d07be7a",
    "_uuid": "3b8db81cc3513b088c6bcd9cd1938156fe77992f"
   },
   "outputs": [
    {
     "data": {
      "text/html": [
       "<div>\n",
       "<style scoped>\n",
       "    .dataframe tbody tr th:only-of-type {\n",
       "        vertical-align: middle;\n",
       "    }\n",
       "\n",
       "    .dataframe tbody tr th {\n",
       "        vertical-align: top;\n",
       "    }\n",
       "\n",
       "    .dataframe thead th {\n",
       "        text-align: right;\n",
       "    }\n",
       "</style>\n",
       "<table border=\"1\" class=\"dataframe\">\n",
       "  <thead>\n",
       "    <tr style=\"text-align: right;\">\n",
       "      <th></th>\n",
       "      <th>IsAlone</th>\n",
       "      <th>Survived</th>\n",
       "    </tr>\n",
       "  </thead>\n",
       "  <tbody>\n",
       "    <tr>\n",
       "      <td>0</td>\n",
       "      <td>0</td>\n",
       "      <td>0.505650</td>\n",
       "    </tr>\n",
       "    <tr>\n",
       "      <td>1</td>\n",
       "      <td>1</td>\n",
       "      <td>0.303538</td>\n",
       "    </tr>\n",
       "  </tbody>\n",
       "</table>\n",
       "</div>"
      ],
      "text/plain": [
       "   IsAlone  Survived\n",
       "0        0  0.505650\n",
       "1        1  0.303538"
      ]
     },
     "execution_count": 22,
     "metadata": {},
     "output_type": "execute_result"
    }
   ],
   "source": [
    "combine = [train_df, test_df]\n",
    "for dataset in combine:\n",
    "    dataset['IsAlone'] = 0\n",
    "    dataset.loc[dataset['FamilySize'] == 1, 'IsAlone'] = 1\n",
    "\n",
    "train_df[['IsAlone', 'Survived']].groupby(['IsAlone'], as_index=False).mean()"
   ]
  },
  {
   "cell_type": "markdown",
   "metadata": {
    "_cell_guid": "e6b87c09-e7b2-f098-5b04-4360080d26bc",
    "_uuid": "3da4204b2c78faa54a94bbad78a8aa85fbf90c87"
   },
   "source": [
    "Let us drop Parch, SibSp, and IsAlone features in favor of FamilySize"
   ]
  },
  {
   "cell_type": "code",
   "execution_count": 23,
   "metadata": {
    "_cell_guid": "74ee56a6-7357-f3bc-b605-6c41f8aa6566",
    "_uuid": "1e3479690ef7cd8ee10538d4f39d7117246887f0"
   },
   "outputs": [
    {
     "data": {
      "text/html": [
       "<div>\n",
       "<style scoped>\n",
       "    .dataframe tbody tr th:only-of-type {\n",
       "        vertical-align: middle;\n",
       "    }\n",
       "\n",
       "    .dataframe tbody tr th {\n",
       "        vertical-align: top;\n",
       "    }\n",
       "\n",
       "    .dataframe thead th {\n",
       "        text-align: right;\n",
       "    }\n",
       "</style>\n",
       "<table border=\"1\" class=\"dataframe\">\n",
       "  <thead>\n",
       "    <tr style=\"text-align: right;\">\n",
       "      <th></th>\n",
       "      <th>Survived</th>\n",
       "      <th>Pclass</th>\n",
       "      <th>Age</th>\n",
       "      <th>Fare</th>\n",
       "      <th>Sex_female</th>\n",
       "      <th>Sex_male</th>\n",
       "      <th>Embarked_C</th>\n",
       "      <th>Embarked_Q</th>\n",
       "      <th>Embarked_S</th>\n",
       "      <th>FamilySize</th>\n",
       "    </tr>\n",
       "  </thead>\n",
       "  <tbody>\n",
       "    <tr>\n",
       "      <td>0</td>\n",
       "      <td>0</td>\n",
       "      <td>3</td>\n",
       "      <td>22.0</td>\n",
       "      <td>7.2500</td>\n",
       "      <td>0</td>\n",
       "      <td>1</td>\n",
       "      <td>0</td>\n",
       "      <td>0</td>\n",
       "      <td>1</td>\n",
       "      <td>2</td>\n",
       "    </tr>\n",
       "    <tr>\n",
       "      <td>1</td>\n",
       "      <td>1</td>\n",
       "      <td>1</td>\n",
       "      <td>38.0</td>\n",
       "      <td>71.2833</td>\n",
       "      <td>1</td>\n",
       "      <td>0</td>\n",
       "      <td>1</td>\n",
       "      <td>0</td>\n",
       "      <td>0</td>\n",
       "      <td>2</td>\n",
       "    </tr>\n",
       "    <tr>\n",
       "      <td>2</td>\n",
       "      <td>1</td>\n",
       "      <td>3</td>\n",
       "      <td>26.0</td>\n",
       "      <td>7.9250</td>\n",
       "      <td>1</td>\n",
       "      <td>0</td>\n",
       "      <td>0</td>\n",
       "      <td>0</td>\n",
       "      <td>1</td>\n",
       "      <td>1</td>\n",
       "    </tr>\n",
       "    <tr>\n",
       "      <td>3</td>\n",
       "      <td>1</td>\n",
       "      <td>1</td>\n",
       "      <td>35.0</td>\n",
       "      <td>53.1000</td>\n",
       "      <td>1</td>\n",
       "      <td>0</td>\n",
       "      <td>0</td>\n",
       "      <td>0</td>\n",
       "      <td>1</td>\n",
       "      <td>2</td>\n",
       "    </tr>\n",
       "    <tr>\n",
       "      <td>4</td>\n",
       "      <td>0</td>\n",
       "      <td>3</td>\n",
       "      <td>35.0</td>\n",
       "      <td>8.0500</td>\n",
       "      <td>0</td>\n",
       "      <td>1</td>\n",
       "      <td>0</td>\n",
       "      <td>0</td>\n",
       "      <td>1</td>\n",
       "      <td>1</td>\n",
       "    </tr>\n",
       "  </tbody>\n",
       "</table>\n",
       "</div>"
      ],
      "text/plain": [
       "   Survived  Pclass   Age     Fare  Sex_female  Sex_male  Embarked_C  \\\n",
       "0         0       3  22.0   7.2500           0         1           0   \n",
       "1         1       1  38.0  71.2833           1         0           1   \n",
       "2         1       3  26.0   7.9250           1         0           0   \n",
       "3         1       1  35.0  53.1000           1         0           0   \n",
       "4         0       3  35.0   8.0500           0         1           0   \n",
       "\n",
       "   Embarked_Q  Embarked_S  FamilySize  \n",
       "0           0           1           2  \n",
       "1           0           0           2  \n",
       "2           0           1           1  \n",
       "3           0           1           2  \n",
       "4           0           1           1  "
      ]
     },
     "execution_count": 23,
     "metadata": {},
     "output_type": "execute_result"
    }
   ],
   "source": [
    "train_df = train_df.drop(['Parch', 'SibSp', 'IsAlone'], axis=1)\n",
    "test_df = test_df.drop(['Parch', 'SibSp', 'IsAlone'], axis=1)\n",
    "#train_df = train_df.drop(['Parch', 'SibSp', 'IsAlone'], axis=1)\n",
    "#test_df = test_df.drop(['Parch', 'SibSp', 'IsAlone'], axis=1)\n",
    "combine = [train_df, test_df]\n",
    "\n",
    "train_df.head()"
   ]
  },
  {
   "cell_type": "markdown",
   "metadata": {
    "_cell_guid": "e3dfc817-e1c1-a274-a111-62c1c814cecf",
    "_uuid": "d79834ebc4ab9d48ed404584711475dbf8611b91"
   },
   "source": [
    "### Quick completing and converting a numeric feature\n",
    "\n",
    "We can now complete the Fare feature for single missing value in test dataset using mode to get the value that occurs most frequently for this feature. We do this in a single line of code.\n",
    "\n",
    "Note that we are not creating an intermediate new feature or doing any further analysis for correlation to guess missing feature as we are replacing only a single value. The completion goal achieves desired requirement for model algorithm to operate on non-null values.\n",
    "\n",
    "We may also want round off the fare to two decimals as it represents currency."
   ]
  },
  {
   "cell_type": "code",
   "execution_count": 45,
   "metadata": {
    "_cell_guid": "3600cb86-cf5f-d87b-1b33-638dc8db1564",
    "_uuid": "aacb62f3526072a84795a178bd59222378bab180"
   },
   "outputs": [
    {
     "data": {
      "text/html": [
       "<div>\n",
       "<style scoped>\n",
       "    .dataframe tbody tr th:only-of-type {\n",
       "        vertical-align: middle;\n",
       "    }\n",
       "\n",
       "    .dataframe tbody tr th {\n",
       "        vertical-align: top;\n",
       "    }\n",
       "\n",
       "    .dataframe thead th {\n",
       "        text-align: right;\n",
       "    }\n",
       "</style>\n",
       "<table border=\"1\" class=\"dataframe\">\n",
       "  <thead>\n",
       "    <tr style=\"text-align: right;\">\n",
       "      <th></th>\n",
       "      <th>Pclass</th>\n",
       "      <th>Age</th>\n",
       "      <th>Fare</th>\n",
       "      <th>Sex_female</th>\n",
       "      <th>Sex_male</th>\n",
       "      <th>Embarked_C</th>\n",
       "      <th>Embarked_Q</th>\n",
       "      <th>Embarked_S</th>\n",
       "      <th>FamilySize</th>\n",
       "    </tr>\n",
       "  </thead>\n",
       "  <tbody>\n",
       "    <tr>\n",
       "      <td>0</td>\n",
       "      <td>3</td>\n",
       "      <td>34.5</td>\n",
       "      <td>7.8292</td>\n",
       "      <td>0</td>\n",
       "      <td>1</td>\n",
       "      <td>0</td>\n",
       "      <td>1</td>\n",
       "      <td>0</td>\n",
       "      <td>1</td>\n",
       "    </tr>\n",
       "    <tr>\n",
       "      <td>1</td>\n",
       "      <td>3</td>\n",
       "      <td>47.0</td>\n",
       "      <td>7.0000</td>\n",
       "      <td>1</td>\n",
       "      <td>0</td>\n",
       "      <td>0</td>\n",
       "      <td>0</td>\n",
       "      <td>1</td>\n",
       "      <td>2</td>\n",
       "    </tr>\n",
       "    <tr>\n",
       "      <td>2</td>\n",
       "      <td>2</td>\n",
       "      <td>62.0</td>\n",
       "      <td>9.6875</td>\n",
       "      <td>0</td>\n",
       "      <td>1</td>\n",
       "      <td>0</td>\n",
       "      <td>1</td>\n",
       "      <td>0</td>\n",
       "      <td>1</td>\n",
       "    </tr>\n",
       "    <tr>\n",
       "      <td>3</td>\n",
       "      <td>3</td>\n",
       "      <td>27.0</td>\n",
       "      <td>8.6625</td>\n",
       "      <td>0</td>\n",
       "      <td>1</td>\n",
       "      <td>0</td>\n",
       "      <td>0</td>\n",
       "      <td>1</td>\n",
       "      <td>1</td>\n",
       "    </tr>\n",
       "    <tr>\n",
       "      <td>4</td>\n",
       "      <td>3</td>\n",
       "      <td>22.0</td>\n",
       "      <td>12.2875</td>\n",
       "      <td>1</td>\n",
       "      <td>0</td>\n",
       "      <td>0</td>\n",
       "      <td>0</td>\n",
       "      <td>1</td>\n",
       "      <td>3</td>\n",
       "    </tr>\n",
       "  </tbody>\n",
       "</table>\n",
       "</div>"
      ],
      "text/plain": [
       "   Pclass   Age     Fare  Sex_female  Sex_male  Embarked_C  Embarked_Q  \\\n",
       "0       3  34.5   7.8292           0         1           0           1   \n",
       "1       3  47.0   7.0000           1         0           0           0   \n",
       "2       2  62.0   9.6875           0         1           0           1   \n",
       "3       3  27.0   8.6625           0         1           0           0   \n",
       "4       3  22.0  12.2875           1         0           0           0   \n",
       "\n",
       "   Embarked_S  FamilySize  \n",
       "0           0           1  \n",
       "1           1           2  \n",
       "2           0           1  \n",
       "3           1           1  \n",
       "4           1           3  "
      ]
     },
     "execution_count": 45,
     "metadata": {},
     "output_type": "execute_result"
    }
   ],
   "source": [
    "test_df['Fare'].fillna(test_df['Fare'].dropna().median(), inplace=True)\n",
    "test_df.head()"
   ]
  },
  {
   "cell_type": "markdown",
   "metadata": {
    "_cell_guid": "69783c08-c8cc-a6ca-2a9a-5e75581c6d31",
    "_uuid": "a55f20dd6654610ff2d66c1bf3e4c6c73dcef9e5"
   },
   "source": [
    "## Model, predict and solve\n",
    "\n",
    "Now we are ready to train a model and predict the required solution. There are 60+ predictive modelling algorithms to choose from. We must understand the type of problem and solution requirement to narrow down to a select few models which we can evaluate. Our problem is a classification and regression problem. We want to identify relationship between output (Survived or not) with other variables or features (Gender, Age, Port...). We are also perfoming a category of machine learning which is called supervised learning as we are training our model with a given dataset. With these two criteria - Supervised Learning plus Classification and Regression, we can narrow down our choice of models to a few. These include:\n",
    "\n",
    "- Logistic Regression\n",
    "- KNN or k-Nearest Neighbors\n",
    "- Support Vector Machines\n",
    "- Naive Bayes classifier\n",
    "- Decision Tree\n",
    "- Random Forrest\n",
    "- Perceptron\n",
    "- Artificial neural network\n",
    "- RVM or Relevance Vector Machine\n",
    "\n",
    "We will use:\n",
    "\n",
    "- Logistic regression\n",
    "- Decision tree\n",
    "- SVM\n",
    "- Artificial Neural Network\n"
   ]
  },
  {
   "cell_type": "code",
   "execution_count": 46,
   "metadata": {
    "_cell_guid": "0acf54f9-6cf5-24b5-72d9-29b30052823a",
    "_uuid": "04d2235855f40cffd81f76b977a500fceaae87ad"
   },
   "outputs": [
    {
     "data": {
      "text/plain": [
       "((891, 9), (891,), (418, 9))"
      ]
     },
     "execution_count": 46,
     "metadata": {},
     "output_type": "execute_result"
    }
   ],
   "source": [
    "X_train = train_df.drop(\"Survived\", axis=1)\n",
    "y_train = train_df[\"Survived\"]\n",
    "X_test  = test_df\n",
    "X_train.shape, y_train.shape, X_test.shape"
   ]
  },
  {
   "cell_type": "markdown",
   "metadata": {
    "_cell_guid": "579bc004-926a-bcfe-e9bb-c8df83356876",
    "_uuid": "782903c09ec9ee4b6f3e03f7c8b5a62c00461deb"
   },
   "source": [
    "Logistic Regression is a useful model to run early in the workflow. Logistic regression measures the relationship between the categorical dependent variable (feature) and one or more independent variables (features) by estimating probabilities using a logistic function, which is the cumulative logistic distribution. Reference [Wikipedia](https://en.wikipedia.org/wiki/Logistic_regression).\n",
    "\n",
    "Note the confidence score generated by the model based on our training dataset."
   ]
  },
  {
   "cell_type": "code",
   "execution_count": 47,
   "metadata": {
    "_cell_guid": "0edd9322-db0b-9c37-172d-a3a4f8dec229",
    "_uuid": "a649b9c53f4c7b40694f60f5c8dc14ec5ef519ec"
   },
   "outputs": [
    {
     "name": "stdout",
     "output_type": "stream",
     "text": [
      "Accuracy: 80.13%\n"
     ]
    },
    {
     "name": "stderr",
     "output_type": "stream",
     "text": [
      "c:\\miniconda3\\lib\\site-packages\\sklearn\\linear_model\\logistic.py:947: ConvergenceWarning: lbfgs failed to converge. Increase the number of iterations.\n",
      "  \"of iterations.\", ConvergenceWarning)\n"
     ]
    }
   ],
   "source": [
    "# Logistic Regression\n",
    "\n",
    "logreg = LogisticRegression(solver='lbfgs')\n",
    "logreg.fit(X_train, y_train)\n",
    "Y_pred = logreg.predict(X_test)\n",
    "acc_log = round(logreg.score(X_train, y_train) * 100, 2)\n",
    "print(f'Accuracy: {acc_log}%')"
   ]
  },
  {
   "cell_type": "markdown",
   "metadata": {
    "_cell_guid": "3af439ae-1f04-9236-cdc2-ec8170a0d4ee",
    "_uuid": "180e27c96c821656a84889f73986c6ddfff51ed3"
   },
   "source": [
    "We can use Logistic Regression to validate our assumptions and decisions for feature creating and completing goals. This can be done by calculating the coefficient of the features in the decision function.\n",
    "\n",
    "Positive coefficients increase the log-odds of the response (and thus increase the probability), and negative coefficients decrease the log-odds of the response (and thus decrease the probability)."
   ]
  },
  {
   "cell_type": "code",
   "execution_count": 48,
   "metadata": {
    "_cell_guid": "e545d5aa-4767-7a41-5799-a4c5e529ce72",
    "_uuid": "6e6f58053fae405fc93d312fc999f3904e708dbe"
   },
   "outputs": [
    {
     "data": {
      "text/html": [
       "<div>\n",
       "<style scoped>\n",
       "    .dataframe tbody tr th:only-of-type {\n",
       "        vertical-align: middle;\n",
       "    }\n",
       "\n",
       "    .dataframe tbody tr th {\n",
       "        vertical-align: top;\n",
       "    }\n",
       "\n",
       "    .dataframe thead th {\n",
       "        text-align: right;\n",
       "    }\n",
       "</style>\n",
       "<table border=\"1\" class=\"dataframe\">\n",
       "  <thead>\n",
       "    <tr style=\"text-align: right;\">\n",
       "      <th></th>\n",
       "      <th>Feature</th>\n",
       "      <th>Correlation</th>\n",
       "    </tr>\n",
       "  </thead>\n",
       "  <tbody>\n",
       "    <tr>\n",
       "      <td>3</td>\n",
       "      <td>Sex_female</td>\n",
       "      <td>1.824183</td>\n",
       "    </tr>\n",
       "    <tr>\n",
       "      <td>5</td>\n",
       "      <td>Embarked_C</td>\n",
       "      <td>0.548612</td>\n",
       "    </tr>\n",
       "    <tr>\n",
       "      <td>6</td>\n",
       "      <td>Embarked_Q</td>\n",
       "      <td>0.271888</td>\n",
       "    </tr>\n",
       "    <tr>\n",
       "      <td>7</td>\n",
       "      <td>Embarked_S</td>\n",
       "      <td>0.120019</td>\n",
       "    </tr>\n",
       "    <tr>\n",
       "      <td>2</td>\n",
       "      <td>Fare</td>\n",
       "      <td>0.002341</td>\n",
       "    </tr>\n",
       "    <tr>\n",
       "      <td>1</td>\n",
       "      <td>Age</td>\n",
       "      <td>-0.034471</td>\n",
       "    </tr>\n",
       "    <tr>\n",
       "      <td>8</td>\n",
       "      <td>FamilySize</td>\n",
       "      <td>-0.186275</td>\n",
       "    </tr>\n",
       "    <tr>\n",
       "      <td>4</td>\n",
       "      <td>Sex_male</td>\n",
       "      <td>-0.883663</td>\n",
       "    </tr>\n",
       "    <tr>\n",
       "      <td>0</td>\n",
       "      <td>Pclass</td>\n",
       "      <td>-1.003876</td>\n",
       "    </tr>\n",
       "  </tbody>\n",
       "</table>\n",
       "</div>"
      ],
      "text/plain": [
       "      Feature  Correlation\n",
       "3  Sex_female     1.824183\n",
       "5  Embarked_C     0.548612\n",
       "6  Embarked_Q     0.271888\n",
       "7  Embarked_S     0.120019\n",
       "2        Fare     0.002341\n",
       "1         Age    -0.034471\n",
       "8  FamilySize    -0.186275\n",
       "4    Sex_male    -0.883663\n",
       "0      Pclass    -1.003876"
      ]
     },
     "execution_count": 48,
     "metadata": {},
     "output_type": "execute_result"
    }
   ],
   "source": [
    "coeff_df = pd.DataFrame(train_df.columns.delete(0))\n",
    "coeff_df.columns = ['Feature']\n",
    "coeff_df[\"Correlation\"] = pd.Series(logreg.coef_[0])\n",
    "coeff_df.sort_values(by='Correlation', ascending=False)"
   ]
  },
  {
   "cell_type": "markdown",
   "metadata": {},
   "source": [
    "- Sex is highest positivie coefficient, implying as the Sex value increases (male: 0 to female: 1), the probability of Survived=1 increases the most.\n",
    "- Inversely as Pclass increases, probability of Survived=1 decreases the most.\n",
    "- This way Age*Class is a good artificial feature to model as it has second highest negative correlation with Survived.\n",
    "- So is Title as second highest positive correlation."
   ]
  },
  {
   "cell_type": "markdown",
   "metadata": {
    "_cell_guid": "bae7f8d7-9da0-f4fd-bdb1-d97e719a18d7",
    "_uuid": "1c70e99920ae34adce03aaef38d61e2b83ff6a9c"
   },
   "source": [
    "This model uses a decision tree as a predictive model which maps features (tree branches) to conclusions about the target value (tree leaves). Tree models where the target variable can take a finite set of values are called classification trees; in these tree structures, leaves represent class labels and branches represent conjunctions of features that lead to those class labels. Decision trees where the target variable can take continuous values (typically real numbers) are called regression trees. Reference [Wikipedia](https://en.wikipedia.org/wiki/Decision_tree_learning).\n",
    "\n",
    "The model confidence score is the highest among models evaluated so far."
   ]
  },
  {
   "cell_type": "code",
   "execution_count": 49,
   "metadata": {
    "_cell_guid": "dd85f2b7-ace2-0306-b4ec-79c68cd3fea0",
    "_uuid": "1f94308b23b934123c03067e84027b507b989e52"
   },
   "outputs": [
    {
     "name": "stdout",
     "output_type": "stream",
     "text": [
      "Accuracy: 97.98%\n"
     ]
    }
   ],
   "source": [
    "# Decision Tree\n",
    "\n",
    "decision_tree = DecisionTreeClassifier()\n",
    "decision_tree.fit(X_train, y_train, )\n",
    "y_pred = decision_tree.predict(X_test)\n",
    "acc_decision_tree = round(decision_tree.score(X_train, y_train) * 100, 2)\n",
    "print(f\"Accuracy: {acc_decision_tree}%\")"
   ]
  },
  {
   "cell_type": "code",
   "execution_count": 29,
   "metadata": {},
   "outputs": [],
   "source": [
    "dot_data = tree.export_graphviz(decision_tree, out_file=\"dot\", feature_names=X_train.columns.values)\n",
    "#Show decision tree"
   ]
  },
  {
   "cell_type": "markdown",
   "metadata": {},
   "source": [
    "So far we've seen the accuracy of our models which was about 79 for logistic regression, and 90% for decision trees.  \n",
    "Do you think these results will generalize to the general population? \n",
    "\n",
    "\n",
    "\n",
    "\n",
    "\n",
    "\n",
    "\n",
    "\n",
    "\n",
    "\n"
   ]
  },
  {
   "cell_type": "markdown",
   "metadata": {},
   "source": [
    "# Validation\n",
    "We should validate the model to see how well it generalizes on unseen data.  \n",
    "The simplest way is by leaving out test/validation samples."
   ]
  },
  {
   "cell_type": "code",
   "execution_count": 30,
   "metadata": {},
   "outputs": [
    {
     "name": "stdout",
     "output_type": "stream",
     "text": [
      "Accuracy: 98.0\n",
      "validated accuracy: 80.0\n"
     ]
    }
   ],
   "source": [
    "X_train = train_df.drop(\"Survived\", axis=1)\n",
    "y_train = train_df[\"Survived\"]\n",
    "\n",
    "(X_train, X_val, y_train, y_val) = train_test_split(X_train, y_train, test_size = 0.1)\n",
    "\n",
    "\n",
    "\n",
    "decision_tree = DecisionTreeClassifier()\n",
    "decision_tree.fit(X_train, y_train)\n",
    "\n",
    "acc_decision_tree = round(decision_tree.score(X_train, y_train) * 100, 2)\n",
    "val_acc_decision_tree = round(decision_tree.score(X_val, y_val) * 100, 2)\n",
    "\n",
    "print(f\"Accuracy: {acc_decision_tree}\")\n",
    "print(f\"validated accuracy: {val_acc_decision_tree}\")"
   ]
  },
  {
   "cell_type": "code",
   "execution_count": 31,
   "metadata": {},
   "outputs": [
    {
     "data": {
      "text/html": [
       "<div>\n",
       "<style scoped>\n",
       "    .dataframe tbody tr th:only-of-type {\n",
       "        vertical-align: middle;\n",
       "    }\n",
       "\n",
       "    .dataframe tbody tr th {\n",
       "        vertical-align: top;\n",
       "    }\n",
       "\n",
       "    .dataframe thead th {\n",
       "        text-align: right;\n",
       "    }\n",
       "</style>\n",
       "<table border=\"1\" class=\"dataframe\">\n",
       "  <thead>\n",
       "    <tr style=\"text-align: right;\">\n",
       "      <th></th>\n",
       "      <th>Did not survive</th>\n",
       "      <th>Survived</th>\n",
       "    </tr>\n",
       "  </thead>\n",
       "  <tbody>\n",
       "    <tr>\n",
       "      <td>Did not survive</td>\n",
       "      <td>50</td>\n",
       "      <td>7</td>\n",
       "    </tr>\n",
       "    <tr>\n",
       "      <td>Survived</td>\n",
       "      <td>11</td>\n",
       "      <td>22</td>\n",
       "    </tr>\n",
       "  </tbody>\n",
       "</table>\n",
       "</div>"
      ],
      "text/plain": [
       "                 Did not survive  Survived\n",
       "Did not survive               50         7\n",
       "Survived                      11        22"
      ]
     },
     "execution_count": 31,
     "metadata": {},
     "output_type": "execute_result"
    }
   ],
   "source": [
    "y_val_pred = decision_tree.predict(X_val)\n",
    "\n",
    "plt.figure\n",
    "cm = confusion_matrix(y_val, y_val_pred)\n",
    "\n",
    "cm_df = pd.DataFrame(cm, index = ['Did not survive', 'Survived'], columns=['Did not survive', 'Survived'])\n",
    "cm_df\n",
    "# Left = true Top = Predicted"
   ]
  },
  {
   "cell_type": "markdown",
   "metadata": {},
   "source": [
    "We then find a more realistic number, less than we originally saw. \n",
    "When a model performs well on the training set, but fails to perform(generalize) on unseen data we call this overfitting.  \n",
    "Although a lot of algorithms can suffer from overfitting, decision trees are some of the worst\n",
    "\n",
    "The best fix against overfitting is more data. Adjusting training parameters can also help slightly."
   ]
  },
  {
   "cell_type": "markdown",
   "metadata": {},
   "source": [
    "## K-Fold Cross validation\n",
    "Now if we split, train and validate our model a few times we can see there is a significant change in rating.   \n",
    "This is why, if possible, you should use cross validation.   \n",
    "Cross validation is done by splitting (whilst keeping a balance in classes), training and validating a model x times.  \n",
    "Cross validation is considered to be the 'golden standard' for validation.   \n",
    "The downside is performance, since you now have to perform this operation X times..  "
   ]
  },
  {
   "cell_type": "code",
   "execution_count": 32,
   "metadata": {},
   "outputs": [],
   "source": [
    "X_train = train_df.drop(\"Survived\", axis=1)\n",
    "y_train = train_df[\"Survived\"]\n"
   ]
  },
  {
   "cell_type": "code",
   "execution_count": 33,
   "metadata": {},
   "outputs": [
    {
     "data": {
      "text/plain": [
       "Text(0.5, 1.0, 'Average score: 78.46%')"
      ]
     },
     "execution_count": 33,
     "metadata": {},
     "output_type": "execute_result"
    },
    {
     "data": {
      "image/png": "[encoded data removed]",
      "text/plain": [
       "<Figure size 432x288 with 1 Axes>"
      ]
     },
     "metadata": {
      "needs_background": "light"
     },
     "output_type": "display_data"
    }
   ],
   "source": [
    "from sklearn.model_selection import cross_val_score\n",
    "\n",
    "decision_tree_classifier = DecisionTreeClassifier()\n",
    "\n",
    "# cross_val_score returns a list of the scores, which we can visualize\n",
    "# to get a reasonable estimate of our classifier's performance\n",
    "cv_scores = cross_val_score(decision_tree_classifier, X_train, y_train, cv=10)\n",
    "acc_decision_tree = round(np.mean(cv_scores) * 100, 2)\n",
    "plt.hist(cv_scores)\n",
    "plt.title('Average score: {}%'.format(acc_decision_tree))"
   ]
  },
  {
   "cell_type": "code",
   "execution_count": 50,
   "metadata": {},
   "outputs": [
    {
     "data": {
      "text/plain": [
       "Text(0.5, 1.0, 'Average score: 79.58%')"
      ]
     },
     "execution_count": 50,
     "metadata": {},
     "output_type": "execute_result"
    },
    {
     "data": {
      "image/png": "[encoded data removed]",
      "text/plain": [
       "<Figure size 432x288 with 1 Axes>"
      ]
     },
     "metadata": {
      "needs_background": "light"
     },
     "output_type": "display_data"
    }
   ],
   "source": [
    "logreg = LogisticRegression(solver='lbfgs', max_iter=1000)\n",
    "cv_scores = cross_val_score(logreg, X_train, y_train, cv=10)\n",
    "acc_log = round(np.mean(cv_scores) * 100, 2)\n",
    "plt.hist(cv_scores)\n",
    "plt.title('Average score: {}%'.format(acc_log))"
   ]
  },
  {
   "cell_type": "markdown",
   "metadata": {
    "_cell_guid": "ac041064-1693-8584-156b-66674117e4d0",
    "_uuid": "ccba9ac0a9c3c648ef9bc778977ab99066ab3945"
   },
   "source": [
    "Next we model using Support Vector Machines which are supervised learning models with associated learning algorithms that analyze data used for classification and regression analysis. Given a set of training samples, each marked as belonging to one or the other of **two categories**, an SVM training algorithm builds a model that assigns new test samples to one category or the other, making it a non-probabilistic binary linear classifier. Reference [Wikipedia](https://en.wikipedia.org/wiki/Support_vector_machine).\n",
    "\n",
    "https://scikit-learn.org/0.18/_images/sphx_glr_plot_iris_001.png  \n",
    "Note that the model generates a confidence score which is higher than Logistics Regression model."
   ]
  },
  {
   "cell_type": "markdown",
   "metadata": {},
   "source": [
    "## Normalizing the data\n",
    "Now on to the support vector machine and Artifical Neural network. \n",
    "Both of these algorithms tend to perform better when the data is normalized. (Although there are exceptions depending upon the data)  \n",
    "Normalized means the data units are on the same scale."
   ]
  },
  {
   "cell_type": "code",
   "execution_count": 35,
   "metadata": {},
   "outputs": [],
   "source": [
    "scaler = StandardScaler()\n",
    "X_train = scaler.fit_transform(X_train)\n",
    "X_test = scaler.fit_transform(X_test)"
   ]
  },
  {
   "cell_type": "code",
   "execution_count": 36,
   "metadata": {
    "_cell_guid": "7a63bf04-a410-9c81-5310-bdef7963298f",
    "_uuid": "60039d5377da49f1aa9ac4a924331328bd69add1"
   },
   "outputs": [
    {
     "data": {
      "text/plain": [
       "Text(0.5, 1.0, 'Average score: 81.6%')"
      ]
     },
     "execution_count": 36,
     "metadata": {},
     "output_type": "execute_result"
    },
    {
     "data": {
      "image/png": "[encoded data removed]",
      "text/plain": [
       "<Figure size 432x288 with 1 Axes>"
      ]
     },
     "metadata": {
      "needs_background": "light"
     },
     "output_type": "display_data"
    }
   ],
   "source": [
    "# Support Vector Machines\n",
    "\n",
    "svc = SVC(gamma='auto', kernel='rbf')\n",
    "cv_scores = cross_val_score(svc, X_train, y_train, cv=10)\n",
    "acc_svc = round(np.mean(cv_scores) * 100, 2)\n",
    "plt.hist(cv_scores)\n",
    "plt.title('Average score: {}%'.format(acc_svc))\n"
   ]
  },
  {
   "cell_type": "markdown",
   "metadata": {
    "_cell_guid": "f6c9eef8-83dd-581c-2d8e-ce932fe3a44d",
    "_uuid": "2c1428d022430ea594af983a433757e11b47c50c"
   },
   "source": [
    "### Model evaluation\n",
    "\n",
    "We can now rank our evaluation of all the models to choose the best one for our problem. While both Decision Tree and Random Forest score the same, we choose to use Random Forest as they correct for decision trees' habit of overfitting to their training set. "
   ]
  },
  {
   "cell_type": "code",
   "execution_count": 51,
   "metadata": {},
   "outputs": [
    {
     "name": "stdout",
     "output_type": "stream",
     "text": [
      "WARNING:tensorflow:Falling back from v2 loop because of error: Failed to find data adapter that can handle input: <class 'pandas.core.frame.DataFrame'>, <class 'NoneType'>\n",
      "Train on 712 samples, validate on 179 samples\n",
      "Epoch 1/200\n",
      "712/712 [==============================] - 0s 303us/sample - loss: 3.5751 - accuracy: 0.3357 - val_loss: 2.8986 - val_accuracy: 0.4078\n",
      "Epoch 2/200\n",
      "712/712 [==============================] - 0s 54us/sample - loss: 2.1660 - accuracy: 0.5281 - val_loss: 1.6280 - val_accuracy: 0.5531\n",
      "Epoch 3/200\n",
      "712/712 [==============================] - 0s 58us/sample - loss: 1.2123 - accuracy: 0.5674 - val_loss: 1.0265 - val_accuracy: 0.5978\n",
      "Epoch 4/200\n",
      "712/712 [==============================] - 0s 68us/sample - loss: 0.9921 - accuracy: 0.6138 - val_loss: 0.9006 - val_accuracy: 0.6480\n",
      "Epoch 5/200\n",
      "712/712 [==============================] - 0s 61us/sample - loss: 0.9406 - accuracy: 0.6433 - val_loss: 0.8737 - val_accuracy: 0.6760\n",
      "Epoch 6/200\n",
      "712/712 [==============================] - 0s 57us/sample - loss: 0.9138 - accuracy: 0.6573 - val_loss: 0.8521 - val_accuracy: 0.6760\n",
      "Epoch 7/200\n",
      "712/712 [==============================] - 0s 62us/sample - loss: 0.8922 - accuracy: 0.6545 - val_loss: 0.8360 - val_accuracy: 0.6760\n",
      "Epoch 8/200\n",
      "712/712 [==============================] - 0s 53us/sample - loss: 0.8686 - accuracy: 0.6671 - val_loss: 0.8020 - val_accuracy: 0.6983\n",
      "Epoch 9/200\n",
      "712/712 [==============================] - 0s 62us/sample - loss: 0.8437 - accuracy: 0.6671 - val_loss: 0.7734 - val_accuracy: 0.6983\n",
      "Epoch 10/200\n",
      "712/712 [==============================] - 0s 60us/sample - loss: 0.8177 - accuracy: 0.6713 - val_loss: 0.7456 - val_accuracy: 0.6927\n",
      "Epoch 11/200\n",
      "712/712 [==============================] - 0s 66us/sample - loss: 0.7997 - accuracy: 0.6756 - val_loss: 0.7217 - val_accuracy: 0.6983\n",
      "Epoch 12/200\n",
      "712/712 [==============================] - 0s 65us/sample - loss: 0.7695 - accuracy: 0.6671 - val_loss: 0.6923 - val_accuracy: 0.6983\n",
      "Epoch 13/200\n",
      "712/712 [==============================] - 0s 70us/sample - loss: 0.7369 - accuracy: 0.6657 - val_loss: 0.6666 - val_accuracy: 0.7095\n",
      "Epoch 14/200\n",
      "712/712 [==============================] - 0s 60us/sample - loss: 0.7082 - accuracy: 0.6615 - val_loss: 0.6470 - val_accuracy: 0.7207\n",
      "Epoch 15/200\n",
      "712/712 [==============================] - 0s 55us/sample - loss: 0.6878 - accuracy: 0.6601 - val_loss: 0.6200 - val_accuracy: 0.7263\n",
      "Epoch 16/200\n",
      "712/712 [==============================] - 0s 61us/sample - loss: 0.6625 - accuracy: 0.6601 - val_loss: 0.5821 - val_accuracy: 0.7598\n",
      "Epoch 17/200\n",
      "712/712 [==============================] - 0s 61us/sample - loss: 0.6380 - accuracy: 0.6503 - val_loss: 0.5443 - val_accuracy: 0.7654\n",
      "Epoch 18/200\n",
      "712/712 [==============================] - 0s 67us/sample - loss: 0.6283 - accuracy: 0.6657 - val_loss: 0.5389 - val_accuracy: 0.7542\n",
      "Epoch 19/200\n",
      "712/712 [==============================] - 0s 63us/sample - loss: 0.6176 - accuracy: 0.6826 - val_loss: 0.5233 - val_accuracy: 0.7598\n",
      "Epoch 20/200\n",
      "712/712 [==============================] - 0s 63us/sample - loss: 0.5878 - accuracy: 0.6699 - val_loss: 0.5258 - val_accuracy: 0.7542\n",
      "Epoch 21/200\n",
      "712/712 [==============================] - 0s 56us/sample - loss: 0.5837 - accuracy: 0.6798 - val_loss: 0.5066 - val_accuracy: 0.7598\n",
      "Epoch 22/200\n",
      "712/712 [==============================] - 0s 65us/sample - loss: 0.5646 - accuracy: 0.6812 - val_loss: 0.4910 - val_accuracy: 0.7598\n",
      "Epoch 23/200\n",
      "712/712 [==============================] - 0s 60us/sample - loss: 0.5565 - accuracy: 0.6994 - val_loss: 0.4854 - val_accuracy: 0.7765\n",
      "Epoch 24/200\n",
      "712/712 [==============================] - 0s 51us/sample - loss: 0.5486 - accuracy: 0.7163 - val_loss: 0.4739 - val_accuracy: 0.7877\n",
      "Epoch 25/200\n",
      "712/712 [==============================] - 0s 54us/sample - loss: 0.5390 - accuracy: 0.7149 - val_loss: 0.4677 - val_accuracy: 0.7989\n",
      "Epoch 26/200\n",
      "712/712 [==============================] - 0s 56us/sample - loss: 0.5501 - accuracy: 0.7612 - val_loss: 0.4622 - val_accuracy: 0.8101\n",
      "Epoch 27/200\n",
      "712/712 [==============================] - 0s 66us/sample - loss: 0.5305 - accuracy: 0.7556 - val_loss: 0.4421 - val_accuracy: 0.7989\n",
      "Epoch 28/200\n",
      "712/712 [==============================] - 0s 55us/sample - loss: 0.5143 - accuracy: 0.7767 - val_loss: 0.4381 - val_accuracy: 0.7989\n",
      "Epoch 29/200\n",
      "712/712 [==============================] - 0s 62us/sample - loss: 0.5106 - accuracy: 0.7683 - val_loss: 0.4358 - val_accuracy: 0.7989\n",
      "Epoch 30/200\n",
      "712/712 [==============================] - 0s 61us/sample - loss: 0.5087 - accuracy: 0.7781 - val_loss: 0.4538 - val_accuracy: 0.8101\n",
      "Epoch 31/200\n",
      "712/712 [==============================] - 0s 59us/sample - loss: 0.4956 - accuracy: 0.7767 - val_loss: 0.4137 - val_accuracy: 0.8101\n",
      "Epoch 32/200\n",
      "712/712 [==============================] - 0s 55us/sample - loss: 0.4923 - accuracy: 0.7921 - val_loss: 0.4324 - val_accuracy: 0.7989\n",
      "Epoch 33/200\n",
      "712/712 [==============================] - 0s 55us/sample - loss: 0.4994 - accuracy: 0.7753 - val_loss: 0.4152 - val_accuracy: 0.8101\n",
      "Epoch 34/200\n",
      "712/712 [==============================] - 0s 61us/sample - loss: 0.4923 - accuracy: 0.7837 - val_loss: 0.4186 - val_accuracy: 0.8268\n",
      "Epoch 35/200\n",
      "712/712 [==============================] - 0s 66us/sample - loss: 0.4830 - accuracy: 0.7879 - val_loss: 0.4195 - val_accuracy: 0.8045\n",
      "Epoch 36/200\n",
      "712/712 [==============================] - 0s 61us/sample - loss: 0.4846 - accuracy: 0.7739 - val_loss: 0.4116 - val_accuracy: 0.8492\n",
      "Epoch 37/200\n",
      "712/712 [==============================] - 0s 51us/sample - loss: 0.4788 - accuracy: 0.7837 - val_loss: 0.4076 - val_accuracy: 0.8156\n",
      "Epoch 38/200\n",
      "712/712 [==============================] - 0s 68us/sample - loss: 0.4830 - accuracy: 0.7921 - val_loss: 0.4066 - val_accuracy: 0.8492\n",
      "Epoch 39/200\n",
      "712/712 [==============================] - 0s 66us/sample - loss: 0.4790 - accuracy: 0.7865 - val_loss: 0.4023 - val_accuracy: 0.8547\n",
      "Epoch 40/200\n",
      "712/712 [==============================] - 0s 69us/sample - loss: 0.4785 - accuracy: 0.8006 - val_loss: 0.4064 - val_accuracy: 0.8547\n",
      "Epoch 41/200\n",
      "712/712 [==============================] - 0s 62us/sample - loss: 0.4785 - accuracy: 0.7795 - val_loss: 0.3947 - val_accuracy: 0.8547\n",
      "Epoch 42/200\n",
      "712/712 [==============================] - 0s 67us/sample - loss: 0.4797 - accuracy: 0.7963 - val_loss: 0.3986 - val_accuracy: 0.8380\n",
      "Epoch 43/200\n",
      "712/712 [==============================] - 0s 63us/sample - loss: 0.4696 - accuracy: 0.7907 - val_loss: 0.3930 - val_accuracy: 0.8324\n",
      "Epoch 44/200\n",
      "712/712 [==============================] - 0s 62us/sample - loss: 0.4696 - accuracy: 0.7935 - val_loss: 0.3928 - val_accuracy: 0.8380\n",
      "Epoch 45/200\n",
      "712/712 [==============================] - 0s 59us/sample - loss: 0.4699 - accuracy: 0.7992 - val_loss: 0.3914 - val_accuracy: 0.8380\n",
      "Epoch 46/200\n",
      "712/712 [==============================] - 0s 64us/sample - loss: 0.4744 - accuracy: 0.7865 - val_loss: 0.3935 - val_accuracy: 0.8324\n",
      "Epoch 47/200\n",
      "712/712 [==============================] - 0s 60us/sample - loss: 0.4757 - accuracy: 0.7893 - val_loss: 0.3865 - val_accuracy: 0.8492\n",
      "Epoch 48/200\n",
      "712/712 [==============================] - 0s 64us/sample - loss: 0.4653 - accuracy: 0.7949 - val_loss: 0.3906 - val_accuracy: 0.8547\n",
      "Epoch 49/200\n",
      "712/712 [==============================] - 0s 65us/sample - loss: 0.4700 - accuracy: 0.7949 - val_loss: 0.3820 - val_accuracy: 0.8547\n",
      "Epoch 50/200\n",
      "712/712 [==============================] - 0s 61us/sample - loss: 0.4661 - accuracy: 0.7963 - val_loss: 0.3848 - val_accuracy: 0.8492\n",
      "Epoch 51/200\n",
      "712/712 [==============================] - 0s 66us/sample - loss: 0.4783 - accuracy: 0.7935 - val_loss: 0.3937 - val_accuracy: 0.8436\n",
      "Epoch 52/200\n",
      "712/712 [==============================] - 0s 57us/sample - loss: 0.4651 - accuracy: 0.7865 - val_loss: 0.3829 - val_accuracy: 0.8380\n",
      "Epoch 53/200\n",
      "712/712 [==============================] - 0s 61us/sample - loss: 0.4688 - accuracy: 0.7921 - val_loss: 0.3870 - val_accuracy: 0.8324\n",
      "Epoch 54/200\n",
      "712/712 [==============================] - 0s 57us/sample - loss: 0.4717 - accuracy: 0.7865 - val_loss: 0.3993 - val_accuracy: 0.8156\n",
      "Epoch 55/200\n"
     ]
    },
    {
     "name": "stdout",
     "output_type": "stream",
     "text": [
      "712/712 [==============================] - 0s 66us/sample - loss: 0.4651 - accuracy: 0.7907 - val_loss: 0.3871 - val_accuracy: 0.8324\n",
      "Epoch 56/200\n",
      "712/712 [==============================] - 0s 69us/sample - loss: 0.4641 - accuracy: 0.7935 - val_loss: 0.3834 - val_accuracy: 0.8324\n",
      "Epoch 57/200\n",
      "712/712 [==============================] - 0s 62us/sample - loss: 0.4643 - accuracy: 0.7949 - val_loss: 0.3836 - val_accuracy: 0.8380\n",
      "Epoch 58/200\n",
      "712/712 [==============================] - 0s 64us/sample - loss: 0.4625 - accuracy: 0.7879 - val_loss: 0.3787 - val_accuracy: 0.8492\n",
      "Epoch 59/200\n",
      "712/712 [==============================] - 0s 60us/sample - loss: 0.4608 - accuracy: 0.8062 - val_loss: 0.4055 - val_accuracy: 0.8045\n",
      "Epoch 60/200\n",
      "712/712 [==============================] - 0s 66us/sample - loss: 0.4724 - accuracy: 0.7809 - val_loss: 0.3886 - val_accuracy: 0.8268\n",
      "Epoch 61/200\n",
      "712/712 [==============================] - 0s 61us/sample - loss: 0.4680 - accuracy: 0.7865 - val_loss: 0.3890 - val_accuracy: 0.8156\n",
      "Epoch 62/200\n",
      "712/712 [==============================] - 0s 64us/sample - loss: 0.4687 - accuracy: 0.7837 - val_loss: 0.3850 - val_accuracy: 0.8212\n",
      "Epoch 63/200\n",
      "712/712 [==============================] - 0s 64us/sample - loss: 0.4640 - accuracy: 0.7963 - val_loss: 0.3893 - val_accuracy: 0.8212\n",
      "Epoch 64/200\n",
      "712/712 [==============================] - 0s 70us/sample - loss: 0.4746 - accuracy: 0.7893 - val_loss: 0.3833 - val_accuracy: 0.8380\n",
      "Epoch 65/200\n",
      "712/712 [==============================] - 0s 69us/sample - loss: 0.4720 - accuracy: 0.7879 - val_loss: 0.3834 - val_accuracy: 0.8101\n",
      "Epoch 66/200\n",
      "712/712 [==============================] - 0s 66us/sample - loss: 0.4636 - accuracy: 0.7963 - val_loss: 0.3772 - val_accuracy: 0.8492\n",
      "Epoch 67/200\n",
      "712/712 [==============================] - 0s 64us/sample - loss: 0.4599 - accuracy: 0.7907 - val_loss: 0.3790 - val_accuracy: 0.8380\n",
      "Epoch 68/200\n",
      "712/712 [==============================] - 0s 69us/sample - loss: 0.4707 - accuracy: 0.7809 - val_loss: 0.4074 - val_accuracy: 0.8212\n",
      "Epoch 69/200\n",
      "712/712 [==============================] - 0s 70us/sample - loss: 0.4596 - accuracy: 0.7921 - val_loss: 0.3714 - val_accuracy: 0.8436\n",
      "Epoch 70/200\n",
      "712/712 [==============================] - 0s 68us/sample - loss: 0.4721 - accuracy: 0.7963 - val_loss: 0.3718 - val_accuracy: 0.8492\n",
      "Epoch 71/200\n",
      "712/712 [==============================] - 0s 66us/sample - loss: 0.4668 - accuracy: 0.7935 - val_loss: 0.3758 - val_accuracy: 0.8492\n",
      "Epoch 72/200\n",
      "712/712 [==============================] - 0s 66us/sample - loss: 0.4619 - accuracy: 0.7963 - val_loss: 0.3761 - val_accuracy: 0.8492\n",
      "Epoch 73/200\n",
      "712/712 [==============================] - 0s 64us/sample - loss: 0.4566 - accuracy: 0.8006 - val_loss: 0.3757 - val_accuracy: 0.8436\n",
      "Epoch 74/200\n",
      "712/712 [==============================] - 0s 65us/sample - loss: 0.4600 - accuracy: 0.7893 - val_loss: 0.3783 - val_accuracy: 0.8268\n",
      "Epoch 75/200\n",
      "712/712 [==============================] - 0s 64us/sample - loss: 0.4585 - accuracy: 0.7893 - val_loss: 0.3728 - val_accuracy: 0.8436\n",
      "Epoch 76/200\n",
      "712/712 [==============================] - 0s 68us/sample - loss: 0.4575 - accuracy: 0.8006 - val_loss: 0.3758 - val_accuracy: 0.8380\n",
      "Epoch 77/200\n",
      "712/712 [==============================] - 0s 68us/sample - loss: 0.4602 - accuracy: 0.8006 - val_loss: 0.3787 - val_accuracy: 0.8268\n",
      "Epoch 78/200\n",
      "712/712 [==============================] - 0s 60us/sample - loss: 0.4587 - accuracy: 0.7921 - val_loss: 0.3729 - val_accuracy: 0.8380\n",
      "Epoch 79/200\n",
      "712/712 [==============================] - 0s 66us/sample - loss: 0.4601 - accuracy: 0.7949 - val_loss: 0.3839 - val_accuracy: 0.8324\n",
      "Epoch 80/200\n",
      "712/712 [==============================] - 0s 66us/sample - loss: 0.4601 - accuracy: 0.7935 - val_loss: 0.3708 - val_accuracy: 0.8436\n",
      "Epoch 81/200\n",
      "712/712 [==============================] - 0s 62us/sample - loss: 0.4599 - accuracy: 0.7992 - val_loss: 0.3792 - val_accuracy: 0.8492\n",
      "Epoch 82/200\n",
      "712/712 [==============================] - 0s 62us/sample - loss: 0.4657 - accuracy: 0.7921 - val_loss: 0.3707 - val_accuracy: 0.8436\n",
      "Epoch 83/200\n",
      "712/712 [==============================] - 0s 66us/sample - loss: 0.4560 - accuracy: 0.7963 - val_loss: 0.3781 - val_accuracy: 0.8380\n",
      "Epoch 84/200\n",
      "712/712 [==============================] - 0s 67us/sample - loss: 0.4580 - accuracy: 0.7963 - val_loss: 0.3727 - val_accuracy: 0.8436\n",
      "Epoch 85/200\n",
      "712/712 [==============================] - 0s 66us/sample - loss: 0.4570 - accuracy: 0.7992 - val_loss: 0.3704 - val_accuracy: 0.8436\n",
      "Epoch 86/200\n",
      "712/712 [==============================] - 0s 62us/sample - loss: 0.4559 - accuracy: 0.7978 - val_loss: 0.3761 - val_accuracy: 0.8436\n",
      "Epoch 87/200\n",
      "712/712 [==============================] - 0s 70us/sample - loss: 0.4852 - accuracy: 0.7753 - val_loss: 0.3952 - val_accuracy: 0.8324\n",
      "Epoch 88/200\n",
      "712/712 [==============================] - 0s 68us/sample - loss: 0.4732 - accuracy: 0.7978 - val_loss: 0.3706 - val_accuracy: 0.8492\n",
      "Epoch 89/200\n",
      "712/712 [==============================] - 0s 63us/sample - loss: 0.4598 - accuracy: 0.7949 - val_loss: 0.3738 - val_accuracy: 0.8547\n",
      "Epoch 90/200\n",
      "712/712 [==============================] - 0s 63us/sample - loss: 0.4569 - accuracy: 0.8034 - val_loss: 0.3785 - val_accuracy: 0.8380\n",
      "Epoch 91/200\n",
      "712/712 [==============================] - 0s 65us/sample - loss: 0.4571 - accuracy: 0.7907 - val_loss: 0.3706 - val_accuracy: 0.8324\n",
      "Epoch 92/200\n",
      "712/712 [==============================] - 0s 67us/sample - loss: 0.4651 - accuracy: 0.8020 - val_loss: 0.3826 - val_accuracy: 0.8212\n",
      "Epoch 93/200\n",
      "712/712 [==============================] - 0s 66us/sample - loss: 0.4641 - accuracy: 0.7879 - val_loss: 0.3763 - val_accuracy: 0.8380\n",
      "Epoch 94/200\n",
      "712/712 [==============================] - 0s 61us/sample - loss: 0.4591 - accuracy: 0.7921 - val_loss: 0.3745 - val_accuracy: 0.8492\n",
      "Epoch 95/200\n",
      "712/712 [==============================] - 0s 61us/sample - loss: 0.4680 - accuracy: 0.7907 - val_loss: 0.3793 - val_accuracy: 0.8380\n",
      "Epoch 96/200\n",
      "712/712 [==============================] - 0s 64us/sample - loss: 0.4567 - accuracy: 0.7907 - val_loss: 0.3661 - val_accuracy: 0.8492\n",
      "Epoch 97/200\n",
      "712/712 [==============================] - 0s 62us/sample - loss: 0.4570 - accuracy: 0.7879 - val_loss: 0.3805 - val_accuracy: 0.8324\n",
      "Epoch 98/200\n",
      "712/712 [==============================] - 0s 64us/sample - loss: 0.4624 - accuracy: 0.7949 - val_loss: 0.3751 - val_accuracy: 0.8380\n",
      "Epoch 99/200\n",
      "712/712 [==============================] - 0s 66us/sample - loss: 0.4603 - accuracy: 0.7921 - val_loss: 0.3736 - val_accuracy: 0.8324\n",
      "Epoch 100/200\n",
      "712/712 [==============================] - 0s 68us/sample - loss: 0.4605 - accuracy: 0.7921 - val_loss: 0.3727 - val_accuracy: 0.8380\n",
      "Epoch 101/200\n",
      "712/712 [==============================] - 0s 62us/sample - loss: 0.4566 - accuracy: 0.7978 - val_loss: 0.3710 - val_accuracy: 0.8436\n",
      "Epoch 102/200\n",
      "712/712 [==============================] - 0s 61us/sample - loss: 0.4580 - accuracy: 0.8048 - val_loss: 0.3759 - val_accuracy: 0.8492\n",
      "Epoch 103/200\n",
      "712/712 [==============================] - 0s 63us/sample - loss: 0.4566 - accuracy: 0.7963 - val_loss: 0.3672 - val_accuracy: 0.8492\n",
      "Epoch 104/200\n",
      "712/712 [==============================] - 0s 71us/sample - loss: 0.4687 - accuracy: 0.7865 - val_loss: 0.4003 - val_accuracy: 0.8212\n",
      "Epoch 105/200\n",
      "712/712 [==============================] - 0s 66us/sample - loss: 0.4724 - accuracy: 0.7879 - val_loss: 0.3921 - val_accuracy: 0.8324\n",
      "Epoch 106/200\n",
      "712/712 [==============================] - 0s 61us/sample - loss: 0.4562 - accuracy: 0.7837 - val_loss: 0.3768 - val_accuracy: 0.8492\n",
      "Epoch 107/200\n",
      "712/712 [==============================] - 0s 68us/sample - loss: 0.4735 - accuracy: 0.7795 - val_loss: 0.3715 - val_accuracy: 0.8324\n",
      "Epoch 108/200\n",
      "712/712 [==============================] - 0s 61us/sample - loss: 0.4565 - accuracy: 0.7963 - val_loss: 0.3788 - val_accuracy: 0.8324\n",
      "Epoch 109/200\n",
      "712/712 [==============================] - 0s 67us/sample - loss: 0.4549 - accuracy: 0.7907 - val_loss: 0.3769 - val_accuracy: 0.8492\n",
      "Epoch 110/200\n",
      "712/712 [==============================] - 0s 63us/sample - loss: 0.4623 - accuracy: 0.7865 - val_loss: 0.3750 - val_accuracy: 0.8547\n"
     ]
    },
    {
     "name": "stdout",
     "output_type": "stream",
     "text": [
      "Epoch 111/200\n",
      "712/712 [==============================] - 0s 68us/sample - loss: 0.4621 - accuracy: 0.7907 - val_loss: 0.3788 - val_accuracy: 0.8547\n",
      "Epoch 112/200\n",
      "712/712 [==============================] - 0s 64us/sample - loss: 0.4618 - accuracy: 0.7921 - val_loss: 0.3760 - val_accuracy: 0.8436\n",
      "Epoch 113/200\n",
      "712/712 [==============================] - 0s 61us/sample - loss: 0.4529 - accuracy: 0.7949 - val_loss: 0.3815 - val_accuracy: 0.8268\n",
      "Epoch 114/200\n",
      "712/712 [==============================] - 0s 65us/sample - loss: 0.4634 - accuracy: 0.7893 - val_loss: 0.3715 - val_accuracy: 0.8380\n",
      "Epoch 115/200\n",
      "712/712 [==============================] - 0s 60us/sample - loss: 0.4567 - accuracy: 0.7949 - val_loss: 0.3684 - val_accuracy: 0.8436\n",
      "Epoch 116/200\n",
      "712/712 [==============================] - 0s 66us/sample - loss: 0.4532 - accuracy: 0.8034 - val_loss: 0.3750 - val_accuracy: 0.8380\n",
      "Epoch 117/200\n",
      "712/712 [==============================] - 0s 67us/sample - loss: 0.4542 - accuracy: 0.7963 - val_loss: 0.3697 - val_accuracy: 0.8436\n",
      "Epoch 118/200\n",
      "712/712 [==============================] - 0s 64us/sample - loss: 0.4598 - accuracy: 0.8020 - val_loss: 0.3723 - val_accuracy: 0.8492\n",
      "Epoch 119/200\n",
      "712/712 [==============================] - 0s 64us/sample - loss: 0.4671 - accuracy: 0.7851 - val_loss: 0.3679 - val_accuracy: 0.8492\n",
      "Epoch 120/200\n",
      "712/712 [==============================] - 0s 54us/sample - loss: 0.4598 - accuracy: 0.7893 - val_loss: 0.3682 - val_accuracy: 0.8436\n",
      "Epoch 121/200\n",
      "712/712 [==============================] - 0s 67us/sample - loss: 0.4647 - accuracy: 0.8020 - val_loss: 0.3677 - val_accuracy: 0.8380\n",
      "Epoch 122/200\n",
      "712/712 [==============================] - 0s 72us/sample - loss: 0.4538 - accuracy: 0.7978 - val_loss: 0.3917 - val_accuracy: 0.8268\n",
      "Epoch 123/200\n",
      "712/712 [==============================] - 0s 72us/sample - loss: 0.4622 - accuracy: 0.8062 - val_loss: 0.3846 - val_accuracy: 0.8324\n",
      "Epoch 124/200\n",
      "712/712 [==============================] - 0s 64us/sample - loss: 0.4603 - accuracy: 0.8006 - val_loss: 0.3733 - val_accuracy: 0.8436\n",
      "Epoch 125/200\n",
      "712/712 [==============================] - 0s 57us/sample - loss: 0.4552 - accuracy: 0.8020 - val_loss: 0.3736 - val_accuracy: 0.8436\n",
      "Epoch 126/200\n",
      "712/712 [==============================] - 0s 55us/sample - loss: 0.4661 - accuracy: 0.7907 - val_loss: 0.3688 - val_accuracy: 0.8547\n",
      "Epoch 127/200\n",
      "712/712 [==============================] - 0s 62us/sample - loss: 0.4568 - accuracy: 0.7992 - val_loss: 0.3739 - val_accuracy: 0.8268\n",
      "Epoch 128/200\n",
      "712/712 [==============================] - 0s 67us/sample - loss: 0.4581 - accuracy: 0.7879 - val_loss: 0.3695 - val_accuracy: 0.8324\n",
      "Epoch 129/200\n",
      "712/712 [==============================] - 0s 65us/sample - loss: 0.4630 - accuracy: 0.7978 - val_loss: 0.3801 - val_accuracy: 0.8324\n",
      "Epoch 130/200\n",
      "712/712 [==============================] - 0s 61us/sample - loss: 0.4534 - accuracy: 0.7978 - val_loss: 0.3663 - val_accuracy: 0.8547\n",
      "Epoch 131/200\n",
      "712/712 [==============================] - 0s 59us/sample - loss: 0.4560 - accuracy: 0.7921 - val_loss: 0.3694 - val_accuracy: 0.8436\n",
      "Epoch 132/200\n",
      "712/712 [==============================] - 0s 63us/sample - loss: 0.4612 - accuracy: 0.7949 - val_loss: 0.3724 - val_accuracy: 0.8324\n",
      "Epoch 133/200\n",
      "712/712 [==============================] - 0s 63us/sample - loss: 0.4598 - accuracy: 0.7907 - val_loss: 0.3679 - val_accuracy: 0.8492\n",
      "Epoch 134/200\n",
      "712/712 [==============================] - 0s 59us/sample - loss: 0.4538 - accuracy: 0.8048 - val_loss: 0.3665 - val_accuracy: 0.8547\n",
      "Epoch 135/200\n",
      "712/712 [==============================] - 0s 66us/sample - loss: 0.4567 - accuracy: 0.7949 - val_loss: 0.3719 - val_accuracy: 0.8492\n",
      "Epoch 136/200\n",
      "712/712 [==============================] - 0s 67us/sample - loss: 0.4586 - accuracy: 0.7921 - val_loss: 0.3788 - val_accuracy: 0.8492\n",
      "Epoch 137/200\n",
      "712/712 [==============================] - 0s 68us/sample - loss: 0.4614 - accuracy: 0.8034 - val_loss: 0.3688 - val_accuracy: 0.8492\n",
      "Epoch 138/200\n",
      "712/712 [==============================] - 0s 68us/sample - loss: 0.4554 - accuracy: 0.7978 - val_loss: 0.3728 - val_accuracy: 0.8212\n",
      "Epoch 139/200\n",
      "712/712 [==============================] - 0s 68us/sample - loss: 0.4575 - accuracy: 0.7963 - val_loss: 0.3780 - val_accuracy: 0.8324\n",
      "Epoch 140/200\n",
      "712/712 [==============================] - 0s 64us/sample - loss: 0.4565 - accuracy: 0.7978 - val_loss: 0.3677 - val_accuracy: 0.8547\n",
      "Epoch 141/200\n",
      "712/712 [==============================] - 0s 61us/sample - loss: 0.4572 - accuracy: 0.7963 - val_loss: 0.3696 - val_accuracy: 0.8547\n",
      "Epoch 142/200\n",
      "712/712 [==============================] - 0s 65us/sample - loss: 0.4543 - accuracy: 0.7992 - val_loss: 0.3637 - val_accuracy: 0.8436\n",
      "Epoch 143/200\n",
      "712/712 [==============================] - 0s 64us/sample - loss: 0.4538 - accuracy: 0.8006 - val_loss: 0.3684 - val_accuracy: 0.8324\n",
      "Epoch 144/200\n",
      "712/712 [==============================] - 0s 64us/sample - loss: 0.4658 - accuracy: 0.7921 - val_loss: 0.3755 - val_accuracy: 0.8436\n",
      "Epoch 145/200\n",
      "712/712 [==============================] - 0s 59us/sample - loss: 0.4549 - accuracy: 0.8006 - val_loss: 0.3686 - val_accuracy: 0.8492\n",
      "Epoch 146/200\n",
      "712/712 [==============================] - 0s 63us/sample - loss: 0.4600 - accuracy: 0.7978 - val_loss: 0.3653 - val_accuracy: 0.8436\n",
      "Epoch 147/200\n",
      "712/712 [==============================] - 0s 62us/sample - loss: 0.4517 - accuracy: 0.8006 - val_loss: 0.3703 - val_accuracy: 0.8436\n",
      "Epoch 148/200\n",
      "712/712 [==============================] - 0s 64us/sample - loss: 0.4559 - accuracy: 0.8006 - val_loss: 0.3710 - val_accuracy: 0.8324\n",
      "Epoch 149/200\n",
      "712/712 [==============================] - 0s 62us/sample - loss: 0.4569 - accuracy: 0.7907 - val_loss: 0.3764 - val_accuracy: 0.8492\n",
      "Epoch 150/200\n",
      "712/712 [==============================] - 0s 60us/sample - loss: 0.4658 - accuracy: 0.7963 - val_loss: 0.3777 - val_accuracy: 0.8324\n",
      "Epoch 151/200\n",
      "712/712 [==============================] - 0s 68us/sample - loss: 0.4658 - accuracy: 0.7921 - val_loss: 0.3675 - val_accuracy: 0.8380\n",
      "Epoch 152/200\n",
      "712/712 [==============================] - 0s 66us/sample - loss: 0.4565 - accuracy: 0.8020 - val_loss: 0.3688 - val_accuracy: 0.8492\n",
      "Epoch 153/200\n",
      "712/712 [==============================] - 0s 63us/sample - loss: 0.4607 - accuracy: 0.7865 - val_loss: 0.3694 - val_accuracy: 0.8603\n",
      "Epoch 154/200\n",
      "712/712 [==============================] - 0s 71us/sample - loss: 0.4619 - accuracy: 0.7837 - val_loss: 0.3934 - val_accuracy: 0.8436\n",
      "Epoch 155/200\n",
      "712/712 [==============================] - 0s 66us/sample - loss: 0.4578 - accuracy: 0.8006 - val_loss: 0.3634 - val_accuracy: 0.8492\n",
      "Epoch 156/200\n",
      "712/712 [==============================] - 0s 69us/sample - loss: 0.4583 - accuracy: 0.7935 - val_loss: 0.3647 - val_accuracy: 0.8603\n",
      "Epoch 157/200\n",
      "712/712 [==============================] - 0s 70us/sample - loss: 0.4605 - accuracy: 0.7949 - val_loss: 0.3666 - val_accuracy: 0.8436\n",
      "Epoch 158/200\n",
      "712/712 [==============================] - 0s 64us/sample - loss: 0.4535 - accuracy: 0.7992 - val_loss: 0.3723 - val_accuracy: 0.8547\n",
      "Epoch 159/200\n",
      "712/712 [==============================] - 0s 63us/sample - loss: 0.4543 - accuracy: 0.7935 - val_loss: 0.3622 - val_accuracy: 0.8492\n",
      "Epoch 160/200\n",
      "712/712 [==============================] - 0s 64us/sample - loss: 0.4541 - accuracy: 0.7992 - val_loss: 0.3719 - val_accuracy: 0.8492\n",
      "Epoch 161/200\n",
      "712/712 [==============================] - 0s 56us/sample - loss: 0.4497 - accuracy: 0.7949 - val_loss: 0.3653 - val_accuracy: 0.8436\n",
      "Epoch 162/200\n",
      "712/712 [==============================] - 0s 60us/sample - loss: 0.4497 - accuracy: 0.7963 - val_loss: 0.3699 - val_accuracy: 0.8547\n",
      "Epoch 163/200\n",
      "712/712 [==============================] - 0s 73us/sample - loss: 0.4551 - accuracy: 0.8006 - val_loss: 0.3636 - val_accuracy: 0.8547\n",
      "Epoch 164/200\n",
      "712/712 [==============================] - 0s 70us/sample - loss: 0.4543 - accuracy: 0.7978 - val_loss: 0.3652 - val_accuracy: 0.8492\n",
      "Epoch 165/200\n",
      "712/712 [==============================] - 0s 65us/sample - loss: 0.4505 - accuracy: 0.7992 - val_loss: 0.3808 - val_accuracy: 0.8436\n",
      "Epoch 166/200\n"
     ]
    },
    {
     "name": "stdout",
     "output_type": "stream",
     "text": [
      "712/712 [==============================] - 0s 65us/sample - loss: 0.4634 - accuracy: 0.7837 - val_loss: 0.3694 - val_accuracy: 0.8492\n",
      "Epoch 167/200\n",
      "712/712 [==============================] - 0s 68us/sample - loss: 0.4523 - accuracy: 0.7978 - val_loss: 0.3663 - val_accuracy: 0.8492\n",
      "Epoch 168/200\n",
      "712/712 [==============================] - 0s 65us/sample - loss: 0.4536 - accuracy: 0.7949 - val_loss: 0.3660 - val_accuracy: 0.8492\n",
      "Epoch 169/200\n",
      "712/712 [==============================] - 0s 66us/sample - loss: 0.4525 - accuracy: 0.7992 - val_loss: 0.3661 - val_accuracy: 0.8492\n",
      "Epoch 170/200\n",
      "712/712 [==============================] - 0s 62us/sample - loss: 0.4498 - accuracy: 0.7978 - val_loss: 0.3677 - val_accuracy: 0.8547\n",
      "Epoch 171/200\n",
      "712/712 [==============================] - 0s 68us/sample - loss: 0.4617 - accuracy: 0.8006 - val_loss: 0.3664 - val_accuracy: 0.8603\n",
      "Epoch 172/200\n",
      "712/712 [==============================] - 0s 61us/sample - loss: 0.4622 - accuracy: 0.7921 - val_loss: 0.3720 - val_accuracy: 0.8436\n",
      "Epoch 173/200\n",
      "712/712 [==============================] - 0s 66us/sample - loss: 0.4515 - accuracy: 0.7992 - val_loss: 0.3664 - val_accuracy: 0.8268\n",
      "Epoch 174/200\n",
      "712/712 [==============================] - 0s 62us/sample - loss: 0.4557 - accuracy: 0.7879 - val_loss: 0.3649 - val_accuracy: 0.8436\n",
      "Epoch 175/200\n",
      "712/712 [==============================] - 0s 62us/sample - loss: 0.4605 - accuracy: 0.7992 - val_loss: 0.3795 - val_accuracy: 0.8324\n",
      "Epoch 176/200\n",
      "712/712 [==============================] - 0s 61us/sample - loss: 0.4575 - accuracy: 0.7935 - val_loss: 0.3638 - val_accuracy: 0.8547\n",
      "Epoch 177/200\n",
      "712/712 [==============================] - 0s 59us/sample - loss: 0.4506 - accuracy: 0.7963 - val_loss: 0.3696 - val_accuracy: 0.8492\n",
      "Epoch 178/200\n",
      "712/712 [==============================] - 0s 63us/sample - loss: 0.4501 - accuracy: 0.8048 - val_loss: 0.3732 - val_accuracy: 0.8324\n",
      "Epoch 179/200\n",
      "712/712 [==============================] - 0s 63us/sample - loss: 0.4538 - accuracy: 0.8020 - val_loss: 0.3712 - val_accuracy: 0.8324\n",
      "Epoch 180/200\n",
      "712/712 [==============================] - 0s 63us/sample - loss: 0.4548 - accuracy: 0.8020 - val_loss: 0.3889 - val_accuracy: 0.8268\n",
      "Epoch 181/200\n",
      "712/712 [==============================] - 0s 63us/sample - loss: 0.4858 - accuracy: 0.7879 - val_loss: 0.3785 - val_accuracy: 0.8436\n",
      "Epoch 182/200\n",
      "712/712 [==============================] - 0s 63us/sample - loss: 0.4566 - accuracy: 0.7949 - val_loss: 0.3623 - val_accuracy: 0.8380\n",
      "Epoch 183/200\n",
      "712/712 [==============================] - 0s 62us/sample - loss: 0.4531 - accuracy: 0.7921 - val_loss: 0.3632 - val_accuracy: 0.8436\n",
      "Epoch 184/200\n",
      "712/712 [==============================] - 0s 69us/sample - loss: 0.4501 - accuracy: 0.8006 - val_loss: 0.3638 - val_accuracy: 0.8603\n",
      "Epoch 185/200\n",
      "712/712 [==============================] - 0s 61us/sample - loss: 0.4553 - accuracy: 0.7992 - val_loss: 0.3635 - val_accuracy: 0.8436\n",
      "Epoch 186/200\n",
      "712/712 [==============================] - 0s 64us/sample - loss: 0.4507 - accuracy: 0.8034 - val_loss: 0.3669 - val_accuracy: 0.8492\n",
      "Epoch 187/200\n",
      "712/712 [==============================] - 0s 62us/sample - loss: 0.4515 - accuracy: 0.7978 - val_loss: 0.3698 - val_accuracy: 0.8380\n",
      "Epoch 188/200\n",
      "712/712 [==============================] - 0s 63us/sample - loss: 0.4551 - accuracy: 0.7893 - val_loss: 0.3693 - val_accuracy: 0.8380\n",
      "Epoch 189/200\n",
      "712/712 [==============================] - 0s 61us/sample - loss: 0.4479 - accuracy: 0.7963 - val_loss: 0.3642 - val_accuracy: 0.8436\n",
      "Epoch 190/200\n",
      "712/712 [==============================] - 0s 62us/sample - loss: 0.4652 - accuracy: 0.7949 - val_loss: 0.3765 - val_accuracy: 0.8547\n",
      "Epoch 191/200\n",
      "712/712 [==============================] - 0s 60us/sample - loss: 0.4570 - accuracy: 0.8048 - val_loss: 0.3637 - val_accuracy: 0.8436\n",
      "Epoch 192/200\n",
      "712/712 [==============================] - 0s 64us/sample - loss: 0.4522 - accuracy: 0.7949 - val_loss: 0.3652 - val_accuracy: 0.8436\n",
      "Epoch 193/200\n",
      "712/712 [==============================] - 0s 62us/sample - loss: 0.4528 - accuracy: 0.8076 - val_loss: 0.3628 - val_accuracy: 0.8492\n",
      "Epoch 194/200\n",
      "712/712 [==============================] - 0s 63us/sample - loss: 0.4529 - accuracy: 0.7963 - val_loss: 0.3622 - val_accuracy: 0.8436\n",
      "Epoch 195/200\n",
      "712/712 [==============================] - 0s 61us/sample - loss: 0.4538 - accuracy: 0.7907 - val_loss: 0.3645 - val_accuracy: 0.8436\n",
      "Epoch 196/200\n",
      "712/712 [==============================] - 0s 61us/sample - loss: 0.4498 - accuracy: 0.7978 - val_loss: 0.3672 - val_accuracy: 0.8547\n",
      "Epoch 197/200\n",
      "712/712 [==============================] - 0s 63us/sample - loss: 0.4566 - accuracy: 0.7992 - val_loss: 0.3646 - val_accuracy: 0.8492\n",
      "Epoch 198/200\n",
      "712/712 [==============================] - 0s 61us/sample - loss: 0.4515 - accuracy: 0.7963 - val_loss: 0.3672 - val_accuracy: 0.8436\n",
      "Epoch 199/200\n",
      "712/712 [==============================] - 0s 58us/sample - loss: 0.4525 - accuracy: 0.8034 - val_loss: 0.3705 - val_accuracy: 0.8436\n",
      "Epoch 200/200\n",
      "712/712 [==============================] - 0s 62us/sample - loss: 0.4561 - accuracy: 0.7879 - val_loss: 0.3629 - val_accuracy: 0.8380\n"
     ]
    }
   ],
   "source": [
    "def create_model():\n",
    "    model = tf.keras.models.Sequential([\n",
    "\n",
    "      tf.keras.layers.Dense(9, input_dim=9),\n",
    "      tf.keras.layers.Dense(4, activation='relu'),\n",
    "      tf.keras.layers.Dense(4, activation='softmax')\n",
    "    ])\n",
    "\n",
    "    model.compile(optimizer='adam',\n",
    "                  loss='sparse_categorical_crossentropy',\n",
    "                  metrics=['accuracy'])\n",
    "    return model\n",
    "\n",
    "model = create_model();\n",
    "\n",
    "history = model.fit(X_train, y_train.values, epochs=200, validation_split=0.2)\n"
   ]
  },
  {
   "cell_type": "code",
   "execution_count": 52,
   "metadata": {},
   "outputs": [
    {
     "data": {
      "image/png": "[encoded data removed]",
      "text/plain": [
       "<Figure size 432x288 with 1 Axes>"
      ]
     },
     "metadata": {
      "needs_background": "light"
     },
     "output_type": "display_data"
    }
   ],
   "source": [
    "def plot_scores(history):\n",
    "    from matplotlib import pyplot as plt\n",
    "    plt.plot(history.history['accuracy'])\n",
    "    plt.plot(history.history['val_accuracy'])\n",
    "    accuracy = round(history.history[\"accuracy\"][-1]*100, 2)\n",
    "    val_accuracy = round(history.history[\"val_accuracy\"][-1]*100, 2)\n",
    "    plt.title(f'model accuracy: {accuracy}% validation accuracy: {val_accuracy}%')\n",
    "    plt.ylabel('accuracy')\n",
    "    plt.xlabel('epoch')\n",
    "    plt.legend(['train', 'val'], loc='upper left')\n",
    "    plt.show()\n",
    "\n",
    "plot_scores(history)"
   ]
  },
  {
   "cell_type": "markdown",
   "metadata": {},
   "source": [
    "Like decision trees, neural networks are prone to overfitting.  \n",
    "A combination of not enough samples, and complex networks can result in the network 'tuning in' perfectly on the training data. Overfitting."
   ]
  },
  {
   "cell_type": "code",
   "execution_count": 39,
   "metadata": {},
   "outputs": [
    {
     "data": {
      "image/png": "[encoded data removed]",
      "text/plain": [
       "<Figure size 432x288 with 1 Axes>"
      ]
     },
     "metadata": {
      "needs_background": "light"
     },
     "output_type": "display_data"
    }
   ],
   "source": [
    "def create_complex_model():\n",
    "    model = tf.keras.models.Sequential([\n",
    "\n",
    "      tf.keras.layers.Dense(9, input_dim=9),\n",
    "      tf.keras.layers.Dense(14, activation='relu'),\n",
    "      tf.keras.layers.Dense(64, activation='relu'),\n",
    "      tf.keras.layers.Dense(128, activation='relu'),\n",
    "      tf.keras.layers.Dense(14, activation='softmax'),\n",
    "    ])\n",
    "\n",
    "    model.compile(optimizer='adam',\n",
    "                  loss='sparse_categorical_crossentropy',\n",
    "                  metrics=['accuracy'])\n",
    "    return model\n",
    "\n",
    "model = create_complex_model()\n",
    "history = model.fit(X_train, y_train.values, epochs=250, validation_split=0.2, verbose=0)\n",
    "plot_scores(history)"
   ]
  },
  {
   "cell_type": "markdown",
   "metadata": {},
   "source": [
    "Neural networks tuning can also be done to prevent overfitting.  \n",
    "The simplest, and most common approach is to add dropout layers.\n",
    "\n",
    "\n",
    "Note: The neural network we've mostly talked about today was the standard 'dense' layer.   \n",
    "But there are many more layers, of which the dropout layer is one.\n"
   ]
  },
  {
   "cell_type": "code",
   "execution_count": 40,
   "metadata": {},
   "outputs": [
    {
     "data": {
      "image/png": "[encoded data removed]",
      "text/plain": [
       "<Figure size 432x288 with 1 Axes>"
      ]
     },
     "metadata": {
      "needs_background": "light"
     },
     "output_type": "display_data"
    }
   ],
   "source": [
    "def create_complex_dropout_model():\n",
    "    model = tf.keras.models.Sequential([\n",
    "\n",
    "      tf.keras.layers.Dense(9, input_dim=9),\n",
    "      tf.keras.layers.Dense(14, activation='relu'),\n",
    "      tf.keras.layers.Dropout(0.4),\n",
    "      tf.keras.layers.Dense(64, activation='relu'),\n",
    "      tf.keras.layers.Dropout(0.4),\n",
    "      tf.keras.layers.Dense(128, activation='relu'),\n",
    "      tf.keras.layers.Dropout(0.4),\n",
    "      tf.keras.layers.Dense(14, activation='softmax'),\n",
    "    ])\n",
    "\n",
    "    model.compile(optimizer='adam',\n",
    "                  loss='sparse_categorical_crossentropy',\n",
    "                  metrics=['accuracy'])\n",
    "    return model\n",
    "\n",
    "model = create_complex_dropout_model()\n",
    "history = model.fit(X_train, y_train.values, epochs=250, validation_split=0.2, verbose=0)\n",
    "plot_scores(history)"
   ]
  },
  {
   "cell_type": "code",
   "execution_count": 53,
   "metadata": {},
   "outputs": [
    {
     "name": "stdout",
     "output_type": "stream",
     "text": [
      "accuracy: 84.44%\n",
      "accuracy: 78.89%\n",
      "accuracy: 74.16%\n",
      "accuracy: 83.15%\n",
      "accuracy: 79.78%\n",
      "accuracy: 85.39%\n",
      "accuracy: 77.53%\n",
      "accuracy: 80.90%\n",
      "accuracy: 79.78%\n",
      "accuracy: 80.68%\n",
      "80.47% (+/- 3.15%)\n"
     ]
    }
   ],
   "source": [
    "X_train = train_df.drop(\"Survived\", axis=1)\n",
    "y_train = train_df[\"Survived\"]\n",
    "scaler = StandardScaler()\n",
    "X_train = scaler.fit_transform(X_train)\n",
    "X_test = scaler.fit_transform(X_test)\n",
    "\n",
    "from sklearn.model_selection import StratifiedKFold\n",
    "\n",
    "kfold = StratifiedKFold(n_splits=10, shuffle=True, random_state=seed)\n",
    "cvscores = []\n",
    "models = []\n",
    "for train, test in kfold.split(X_train, y_train):\n",
    "    model = create_complex_dropout_model();\n",
    "    model.fit(X_train[train], y_train.iloc[train].values, epochs=50, batch_size=50, verbose=0)\n",
    "    #evaluate the model\n",
    "    scores = model.evaluate(X_train[test], y_train.iloc[test].values, verbose=0)\n",
    "    print(\"%s: %.2f%%\" % (model.metrics_names[1], scores[1]*100))\n",
    "    cvscores.append(scores[1] * 100)\n",
    "    models.append(model)\n",
    "print(\"%.2f%% (+/- %.2f%%)\" % (np.mean(cvscores), np.std(cvscores)))\n",
    "acc_ann = np.mean(cvscores)"
   ]
  },
  {
   "cell_type": "code",
   "execution_count": 42,
   "metadata": {
    "_cell_guid": "1f3cebe0-31af-70b2-1ce4-0fd406bcdfc6",
    "_uuid": "06a52babe50e0dd837b553c78fc73872168e1c7d"
   },
   "outputs": [
    {
     "data": {
      "text/html": [
       "<div>\n",
       "<style scoped>\n",
       "    .dataframe tbody tr th:only-of-type {\n",
       "        vertical-align: middle;\n",
       "    }\n",
       "\n",
       "    .dataframe tbody tr th {\n",
       "        vertical-align: top;\n",
       "    }\n",
       "\n",
       "    .dataframe thead th {\n",
       "        text-align: right;\n",
       "    }\n",
       "</style>\n",
       "<table border=\"1\" class=\"dataframe\">\n",
       "  <thead>\n",
       "    <tr style=\"text-align: right;\">\n",
       "      <th></th>\n",
       "      <th>Model</th>\n",
       "      <th>Score</th>\n",
       "    </tr>\n",
       "  </thead>\n",
       "  <tbody>\n",
       "    <tr>\n",
       "      <td>0</td>\n",
       "      <td>Support Vector Machine</td>\n",
       "      <td>81.600000</td>\n",
       "    </tr>\n",
       "    <tr>\n",
       "      <td>2</td>\n",
       "      <td>Artifical Neural Network</td>\n",
       "      <td>81.366529</td>\n",
       "    </tr>\n",
       "    <tr>\n",
       "      <td>1</td>\n",
       "      <td>Logistic Regression</td>\n",
       "      <td>79.580000</td>\n",
       "    </tr>\n",
       "    <tr>\n",
       "      <td>3</td>\n",
       "      <td>Decision Tree</td>\n",
       "      <td>78.460000</td>\n",
       "    </tr>\n",
       "  </tbody>\n",
       "</table>\n",
       "</div>"
      ],
      "text/plain": [
       "                      Model      Score\n",
       "0    Support Vector Machine  81.600000\n",
       "2  Artifical Neural Network  81.366529\n",
       "1       Logistic Regression  79.580000\n",
       "3             Decision Tree  78.460000"
      ]
     },
     "execution_count": 42,
     "metadata": {},
     "output_type": "execute_result"
    }
   ],
   "source": [
    "    results = pd.DataFrame({\n",
    "    'Model': ['Support Vector Machine', 'Logistic Regression', \n",
    "              'Artifical Neural Network',              \n",
    "              'Decision Tree'],\n",
    "    'Score': [acc_svc, acc_log, \n",
    "              acc_ann,  acc_decision_tree]})\n",
    "results.sort_values(by='Score', ascending=False)\n"
   ]
  },
  {
   "cell_type": "code",
   "execution_count": 43,
   "metadata": {},
   "outputs": [],
   "source": [
    "\n",
    "svc = SVC(gamma='auto', kernel='rbf')\n",
    "svc.fit(X_train, y_train)\n",
    "y_pred = svc.predict(X_test);"
   ]
  },
  {
   "cell_type": "code",
   "execution_count": 44,
   "metadata": {
    "_cell_guid": "28854d36-051f-3ef0-5535-fa5ba6a9bef7",
    "_uuid": "82b31ea933b3026bd038a8370d651efdcdb3e4d7"
   },
   "outputs": [],
   "source": [
    "submission = pd.DataFrame({\n",
    "        \"PassengerId\": testPassengerIds,\n",
    "        \"Survived\": y_pred\n",
    "    })\n",
    "submission.to_csv('submission.csv', index=False)"
   ]
  },
  {
   "cell_type": "code",
   "execution_count": null,
   "metadata": {},
   "outputs": [],
   "source": []
  },
  {
   "cell_type": "markdown",
   "metadata": {
    "_cell_guid": "aeec9210-f9d8-cd7c-c4cf-a87376d5f693",
    "_uuid": "cdae56d6adbfb15ff9c491c645ae46e2c91d75ce"
   },
   "source": [
    "## References\n",
    "\n",
    "This notebook has been created based on\n",
    "\n",
    "- [Titanic data science solutions](https://www.kaggle.com/startupsci/titanic-data-science-solutions)\n",
    "- [Datascience example classification on flowers](https://nbviewer.jupyter.org/github/rhiever/Data-Analysis-and-Machine-Learning-Projects/blob/master/example-data-science-notebook/Example%20Machine%20Learning%20Notebook.ipynb#Step-5:-Classification)\n",
    "- [A journey through Titanic](https://www.kaggle.com/omarelgabry/titanic/a-journey-through-titanic)\n",
    "- [Getting Started with Pandas: Kaggle's Titanic Competition](https://www.kaggle.com/c/titanic/details/getting-started-with-random-forests)\n",
    "- [Titanic Best Working Classifier](https://www.kaggle.com/sinakhorami/titanic/titanic-best-working-classifier)"
   ]
  },
  {
   "cell_type": "code",
   "execution_count": null,
   "metadata": {},
   "outputs": [],
   "source": []
  }
 ],
 "metadata": {
  "_change_revision": 0,
  "_is_fork": false,
  "kernelspec": {
   "display_name": "Python 3",
   "language": "python",
   "name": "python3"
  },
  "language_info": {
   "codemirror_mode": {
    "name": "ipython",
    "version": 3
   },
   "file_extension": ".py",
   "mimetype": "text/x-python",
   "name": "python",
   "nbconvert_exporter": "python",
   "pygments_lexer": "ipython3",
   "version": "3.7.0"
  }
 },
 "nbformat": 4,
 "nbformat_minor": 1
}
